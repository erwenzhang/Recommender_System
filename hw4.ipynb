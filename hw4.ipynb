{
 "cells": [
  {
   "cell_type": "code",
   "execution_count": 12,
   "metadata": {
    "collapsed": true
   },
   "outputs": [],
   "source": [
    "import csv"
   ]
  },
  {
   "cell_type": "code",
   "execution_count": 13,
   "metadata": {
    "collapsed": false
   },
   "outputs": [
    {
     "name": "stdout",
     "output_type": "stream",
     "text": [
      "1::Toy Story (1995)::Animation|Children's|Comedy\n",
      "3884\n"
     ]
    }
   ],
   "source": [
    "text_file = open(\"movies.dat\", \"r\")\n",
    "lines = text_file.read().split('\\n')\n",
    "print lines[0]\n",
    "print len(lines)"
   ]
  },
  {
   "cell_type": "code",
   "execution_count": 14,
   "metadata": {
    "collapsed": false
   },
   "outputs": [
    {
     "name": "stdout",
     "output_type": "stream",
     "text": [
      "['19', 'Ace Ventura: When Nature Calls (1995)', 'Comedy']\n",
      "3884\n"
     ]
    }
   ],
   "source": [
    "l=[]\n",
    "for line in lines:\n",
    "    line = line.split(\"::\")\n",
    "    l.append(line)\n",
    "print l[18]   \n",
    "print len(l)"
   ]
  },
  {
   "cell_type": "code",
   "execution_count": 15,
   "metadata": {
    "collapsed": false
   },
   "outputs": [
    {
     "name": "stdout",
     "output_type": "stream",
     "text": [
      "['146', 'Amazing Panda Adventure, The (1995)', \"Adventure|Children's\"]\n"
     ]
    }
   ],
   "source": [
    "l1 = l[:3883]\n",
    "print l1[144]"
   ]
  },
  {
   "cell_type": "code",
   "execution_count": 1,
   "metadata": {
    "collapsed": true
   },
   "outputs": [],
   "source": [
    "import warnings\n",
    "warnings.filterwarnings('ignore')\n",
    "\n",
    "import numpy as np \n",
    "\n",
    "import sklearn \n",
    "from sklearn.cluster import KMeans\n",
    "from sklearn import datasets\n",
    "from sklearn import tree # decision trees!\n",
    "from sklearn.externals.six import StringIO \n",
    "\n",
    "import pandas as pd\n",
    "from pandas.tools.plotting import andrews_curves\n",
    "\n",
    "import matplotlib\n",
    "import matplotlib.pyplot as plt\n",
    "%matplotlib inline  \n",
    "matplotlib.style.use('ggplot')"
   ]
  },
  {
   "cell_type": "code",
   "execution_count": 3,
   "metadata": {
    "collapsed": false
   },
   "outputs": [
    {
     "data": {
      "text/html": [
       "<div>\n",
       "<table border=\"1\" class=\"dataframe\">\n",
       "  <thead>\n",
       "    <tr style=\"text-align: right;\">\n",
       "      <th></th>\n",
       "      <th>director</th>\n",
       "      <th>cast</th>\n",
       "      <th>year</th>\n",
       "      <th>movie_name</th>\n",
       "      <th>rating</th>\n",
       "    </tr>\n",
       "  </thead>\n",
       "  <tbody>\n",
       "    <tr>\n",
       "      <th>0</th>\n",
       "      <td>Joe Johnston</td>\n",
       "      <td>Robin Williams,Jonathan Hyde,Kirsten Dunst,Bra...</td>\n",
       "      <td>1995</td>\n",
       "      <td>Jumanji</td>\n",
       "      <td>6.9</td>\n",
       "    </tr>\n",
       "    <tr>\n",
       "      <th>1</th>\n",
       "      <td>John Lasseter</td>\n",
       "      <td>Tom Hanks,Tim Allen,Don Rickles,Jim Varney,Wal...</td>\n",
       "      <td>1995</td>\n",
       "      <td>Toy Story</td>\n",
       "      <td>8.3</td>\n",
       "    </tr>\n",
       "    <tr>\n",
       "      <th>2</th>\n",
       "      <td>Peter Hewitt</td>\n",
       "      <td>Jonathan Taylor Thomas,Brad Renfro,Eric Schwei...</td>\n",
       "      <td>1995</td>\n",
       "      <td>Tom and Huck</td>\n",
       "      <td>5.6</td>\n",
       "    </tr>\n",
       "    <tr>\n",
       "      <th>3</th>\n",
       "      <td>Charles Shyer</td>\n",
       "      <td>Steve Martin,Diane Keaton,Martin Short,Kimberl...</td>\n",
       "      <td>1995</td>\n",
       "      <td>Father of the Bride Part II</td>\n",
       "      <td>5.9</td>\n",
       "    </tr>\n",
       "    <tr>\n",
       "      <th>4</th>\n",
       "      <td>Sydney Pollack</td>\n",
       "      <td>Harrison Ford,Julia Ormond,Greg Kinnear,Nancy ...</td>\n",
       "      <td>1995</td>\n",
       "      <td>Sabrina</td>\n",
       "      <td>6.2</td>\n",
       "    </tr>\n",
       "  </tbody>\n",
       "</table>\n",
       "</div>"
      ],
      "text/plain": [
       "         director                                               cast  year  \\\n",
       "0    Joe Johnston  Robin Williams,Jonathan Hyde,Kirsten Dunst,Bra...  1995   \n",
       "1   John Lasseter  Tom Hanks,Tim Allen,Don Rickles,Jim Varney,Wal...  1995   \n",
       "2    Peter Hewitt  Jonathan Taylor Thomas,Brad Renfro,Eric Schwei...  1995   \n",
       "3   Charles Shyer  Steve Martin,Diane Keaton,Martin Short,Kimberl...  1995   \n",
       "4  Sydney Pollack  Harrison Ford,Julia Ormond,Greg Kinnear,Nancy ...  1995   \n",
       "\n",
       "                    movie_name  rating  \n",
       "0                      Jumanji     6.9  \n",
       "1                    Toy Story     8.3  \n",
       "2                 Tom and Huck     5.6  \n",
       "3  Father of the Bride Part II     5.9  \n",
       "4                      Sabrina     6.2  "
      ]
     },
     "execution_count": 3,
     "metadata": {},
     "output_type": "execute_result"
    }
   ],
   "source": [
    "Movies = pd.read_csv(\"items.csv\")\n",
    "Movies.head()"
   ]
  },
  {
   "cell_type": "code",
   "execution_count": 4,
   "metadata": {
    "collapsed": true
   },
   "outputs": [],
   "source": [
    "df = pd.DataFrame(Movies) "
   ]
  },
  {
   "cell_type": "code",
   "execution_count": 8,
   "metadata": {
    "collapsed": false
   },
   "outputs": [
    {
     "data": {
      "text/plain": [
       "<matplotlib.text.Text at 0x1f1e96d8>"
      ]
     },
     "execution_count": 8,
     "metadata": {},
     "output_type": "execute_result"
    },
    {
     "data": {
      "image/png": "[encoded data removed]",
      "text/plain": [
       "<matplotlib.figure.Figure at 0x1f857470>"
      ]
     },
     "metadata": {},
     "output_type": "display_data"
    }
   ],
   "source": [
    "plt.scatter(df[\"year\"], df[\"rating\"])\n",
    "plt.title(\"Year of release of movies Vs imDB rating\")\n",
    "plt.xlabel(\"Year of release\")\n",
    "plt.ylabel(\"imDB rating\")"
   ]
  },
  {
   "cell_type": "code",
   "execution_count": 21,
   "metadata": {
    "collapsed": false
   },
   "outputs": [],
   "source": [
    "import csv\n",
    "with open('moviescsv', 'a') as outcsv:   \n",
    "    writer = csv.writer(outcsv, delimiter=',', quoting=csv.QUOTE_MINIMAL, lineterminator='\\n')\n",
    "    writer.writerow(['text', 'text', 'text'])\n",
    "    for item in l1:\n",
    "        writer.writerow([item[0], item[1], item[2]])"
   ]
  },
  {
   "cell_type": "code",
   "execution_count": 27,
   "metadata": {
    "collapsed": false
   },
   "outputs": [
    {
     "name": "stdout",
     "output_type": "stream",
     "text": [
      "['']\n",
      "6040\n"
     ]
    }
   ],
   "source": [
    "text_file1 = open(\"users.dat\", \"r\")\n",
    "lines1 = text_file1.read().split('\\n')\n",
    "l2=[]\n",
    "for line in lines1:\n",
    "    line = line.split(\"::\")\n",
    "    l2.append(line)\n",
    "print l2[6040]\n",
    "l2 = l2[:6040]\n",
    "print len(l2)"
   ]
  },
  {
   "cell_type": "code",
   "execution_count": 28,
   "metadata": {
    "collapsed": false
   },
   "outputs": [
    {
     "name": "stdout",
     "output_type": "stream",
     "text": [
      "['6040', 'M', '25', '6', '11106']\n"
     ]
    }
   ],
   "source": [
    "print l2[6039]"
   ]
  },
  {
   "cell_type": "code",
   "execution_count": 29,
   "metadata": {
    "collapsed": false
   },
   "outputs": [],
   "source": [
    "with open('userscsv', 'a') as outcsv:   \n",
    "    writer = csv.writer(outcsv, delimiter=',', quoting=csv.QUOTE_MINIMAL, lineterminator='\\n')\n",
    "    for item in l2:\n",
    "        writer.writerow([item[0], item[1], item[2], item[3], item[4]])"
   ]
  },
  {
   "cell_type": "code",
   "execution_count": 30,
   "metadata": {
    "collapsed": false
   },
   "outputs": [
    {
     "name": "stdout",
     "output_type": "stream",
     "text": [
      "1000210\n"
     ]
    }
   ],
   "source": [
    "text_file2 = open(\"ratings.dat\", \"r\")\n",
    "lines2 = text_file2.read().split('\\n')\n",
    "l3=[]\n",
    "for line in lines2:\n",
    "    line = line.split(\"::\")\n",
    "    l3.append(line)\n",
    "#print l2[6040]\n",
    "#l2 = l2[:6040]\n",
    "print len(l3)"
   ]
  },
  {
   "cell_type": "code",
   "execution_count": 33,
   "metadata": {
    "collapsed": false
   },
   "outputs": [
    {
     "name": "stdout",
     "output_type": "stream",
     "text": [
      "['6040', '1096', '4', '956715648']\n"
     ]
    }
   ],
   "source": [
    "l3 = l3[:1000208]\n",
    "print l3[1000207]"
   ]
  },
  {
   "cell_type": "code",
   "execution_count": 34,
   "metadata": {
    "collapsed": true
   },
   "outputs": [],
   "source": [
    "with open('ratingscsv', 'a') as outcsv:   \n",
    "    writer = csv.writer(outcsv, delimiter=',', quoting=csv.QUOTE_MINIMAL, lineterminator='\\n')\n",
    "    for item in l3:\n",
    "        writer.writerow([item[0], item[1], item[2], item[3]])"
   ]
  },
  {
   "cell_type": "code",
   "execution_count": 36,
   "metadata": {
    "collapsed": true
   },
   "outputs": [],
   "source": [
    "f = open('ratingscsv', 'rt')\n",
    "f1 = open('userscsv', 'rt')\n",
    "f2 = open('moviescsv', 'rt')\n",
    "myList = []\n",
    "try:\n",
    "    reader = csv.reader(f)\n",
    "    for row in reader:\n",
    "        for item in l2:\n",
    "            if item[0] == row[0]:\n",
    "                myList.append([item[2], row[1], row[2]])\n",
    "                \n",
    "finally:\n",
    "    f.close()\n",
    "    f1.close()\n",
    "    f2.close()\n",
    "with open('finalcsv', 'a') as outcsv:   \n",
    "    writer = csv.writer(outcsv, delimiter=',', quoting=csv.QUOTE_MINIMAL, lineterminator='\\n')\n",
    "    for item in myList:\n",
    "        writer.writerow([item[0], item[1], item[2]])    "
   ]
  },
  {
   "cell_type": "code",
   "execution_count": 38,
   "metadata": {
    "collapsed": true
   },
   "outputs": [],
   "source": [
    "f = open('finalcsv', 'rt')\n",
    "myList1 = []\n",
    "try:\n",
    "    reader = csv.reader(f)\n",
    "    for row in reader:\n",
    "        for item in l1:\n",
    "            if item[0] == row[1]:\n",
    "                myList1.append([row[0], item[2], row[2]])\n",
    "                \n",
    "finally:\n",
    "    f.close()\n",
    "with open('hw4csv', 'a') as outcsv:   \n",
    "    writer = csv.writer(outcsv, delimiter=',', quoting=csv.QUOTE_MINIMAL, lineterminator='\\n')\n",
    "    for item in myList1:\n",
    "        writer.writerow([item[0], item[1], item[2]]) "
   ]
  },
  {
   "cell_type": "code",
   "execution_count": 57,
   "metadata": {
    "collapsed": false
   },
   "outputs": [],
   "source": [
    "f = open('hw4csv', 'rt')\n",
    "myList2 = []\n",
    "try:\n",
    "    reader = csv.reader(f)\n",
    "    for row in reader:\n",
    "        if row[0] == '1':\n",
    "            row[1]=row[1].split(\"|\")[0]\n",
    "            if row[1] == \"Action\":\n",
    "                row[1] = 1\n",
    "            if row[1] == \"Adventure\":\n",
    "                row[1] = 2\n",
    "            if row[1] == \"Animation\":\n",
    "                row[1] = 3\n",
    "            if row[1] == \"Children's\":\n",
    "                row[1] = 4\n",
    "            if row[1] == \"Comedy\":\n",
    "                row[1] = 5\n",
    "            if row[1] == \"Crime\":\n",
    "                 row[1] = 6\n",
    "            if row[1] == \"Documentary\":\n",
    "                 row[1] = 7\n",
    "            if row[1] == \"Drama\":\n",
    "                 row[1] = 8\n",
    "            if row[1] == \"Fantasy\":\n",
    "                row[1] = 9\n",
    "            if row[1] == \"Film-Noir\":\n",
    "                row[1] = 10\n",
    "            if row[1] == \"Horror\":\n",
    "                row[1] = 11\n",
    "            if row[1] == \"Musical\":\n",
    "                row[1] = 12\n",
    "            if row[1] == \"Mystery\":\n",
    "                row[1] = 13\n",
    "            if row[1] == \"Romance\":\n",
    "                row[1] = 14\n",
    "            if row[1] == \"Sci-Fi\":\n",
    "                row[1] = 15\n",
    "            if row[1] == \"Thriller\":\n",
    "                row[1] = 16\n",
    "            if row[1] == \"War\":\n",
    "                row[1] = 17\n",
    "            if row[1] == \"Western\":\n",
    "                row[1] = 18\n",
    "            myList2.append([row[0], row[1], row[2]])\n",
    "finally:\n",
    "    f.close()\n",
    "with open('Under18', 'a') as outcsv:\n",
    "    writer = csv.writer(outcsv, delimiter=',', quoting=csv.QUOTE_MINIMAL, lineterminator='\\n')\n",
    "    for item in myList2:\n",
    "        writer.writerow([item[0], item[1], item[2]])\n"
   ]
  },
  {
   "cell_type": "code",
   "execution_count": 59,
   "metadata": {
    "collapsed": false
   },
   "outputs": [
    {
     "data": {
      "text/html": [
       "<div>\n",
       "<table border=\"1\" class=\"dataframe\">\n",
       "  <thead>\n",
       "    <tr style=\"text-align: right;\">\n",
       "      <th></th>\n",
       "      <th>Age group</th>\n",
       "      <th>genre</th>\n",
       "      <th>rating</th>\n",
       "    </tr>\n",
       "  </thead>\n",
       "  <tbody>\n",
       "    <tr>\n",
       "      <th>0</th>\n",
       "      <td>1</td>\n",
       "      <td>8</td>\n",
       "      <td>5</td>\n",
       "    </tr>\n",
       "    <tr>\n",
       "      <th>1</th>\n",
       "      <td>1</td>\n",
       "      <td>3</td>\n",
       "      <td>3</td>\n",
       "    </tr>\n",
       "    <tr>\n",
       "      <th>2</th>\n",
       "      <td>1</td>\n",
       "      <td>12</td>\n",
       "      <td>3</td>\n",
       "    </tr>\n",
       "    <tr>\n",
       "      <th>3</th>\n",
       "      <td>1</td>\n",
       "      <td>8</td>\n",
       "      <td>4</td>\n",
       "    </tr>\n",
       "    <tr>\n",
       "      <th>4</th>\n",
       "      <td>1</td>\n",
       "      <td>3</td>\n",
       "      <td>5</td>\n",
       "    </tr>\n",
       "  </tbody>\n",
       "</table>\n",
       "</div>"
      ],
      "text/plain": [
       "   Age group  genre  rating\n",
       "0          1      8       5\n",
       "1          1      3       3\n",
       "2          1     12       3\n",
       "3          1      8       4\n",
       "4          1      3       5"
      ]
     },
     "execution_count": 59,
     "metadata": {},
     "output_type": "execute_result"
    }
   ],
   "source": [
    "Movies = pd.read_csv(\"Under18.csv\")\n",
    "Movies.head()"
   ]
  },
  {
   "cell_type": "code",
   "execution_count": 78,
   "metadata": {
    "collapsed": false
   },
   "outputs": [
    {
     "data": {
      "text/plain": [
       "([<matplotlib.axis.XTick at 0x4f714710>,\n",
       "  <matplotlib.axis.XTick at 0x4f488dd8>,\n",
       "  <matplotlib.axis.XTick at 0x509c36d8>,\n",
       "  <matplotlib.axis.XTick at 0x509c3c18>,\n",
       "  <matplotlib.axis.XTick at 0x509c8240>,\n",
       "  <matplotlib.axis.XTick at 0x509c88d0>,\n",
       "  <matplotlib.axis.XTick at 0x509c8f60>,\n",
       "  <matplotlib.axis.XTick at 0x509ca630>,\n",
       "  <matplotlib.axis.XTick at 0x509cacc0>,\n",
       "  <matplotlib.axis.XTick at 0x509cd390>,\n",
       "  <matplotlib.axis.XTick at 0x509cda20>,\n",
       "  <matplotlib.axis.XTick at 0x509d10f0>,\n",
       "  <matplotlib.axis.XTick at 0x509d1780>,\n",
       "  <matplotlib.axis.XTick at 0x509d1e10>,\n",
       "  <matplotlib.axis.XTick at 0x509d44e0>,\n",
       "  <matplotlib.axis.XTick at 0x509d4b70>,\n",
       "  <matplotlib.axis.XTick at 0x509d6240>,\n",
       "  <matplotlib.axis.XTick at 0x509d68d0>],\n",
       " <a list of 18 Text xticklabel objects>)"
      ]
     },
     "execution_count": 78,
     "metadata": {},
     "output_type": "execute_result"
    },
    {
     "data": {
      "image/png": "[encoded data removed]",
      "text/plain": [
       "<matplotlib.figure.Figure at 0x4f4ac828>"
      ]
     },
     "metadata": {},
     "output_type": "display_data"
    }
   ],
   "source": [
    "df = pd.DataFrame(Movies) \n",
    "fig = plt.figure(figsize=(20,12))\n",
    "plt.scatter(df[\"genre\"], df[\"rating\"])\n",
    "#plt.title(\"Movie Genre Vs user rating for Under-18 age group\")\n",
    "#plt.xlabel(\"Movie Genre\")\n",
    "plt.xticks((1, 2, 3, 4, 5, 6, 7, 8, 9, 10, 11, 12, 13, 14, 15, 16, 17, 18), (\"Action\", \"Adventure\", \"Animation\", \"Children's\", \"Comedy\", \"Crime\", \"Documentary\", \"Drama\", \"Fantasy\", \"Film-Noir\", \"Horror\", \"Musical\", \"Mystery\", \"Romance\", \"Sci-Fi\", \"Thriller\", \"War\", \"Western\"))\n",
    "#plt.ylabel(\"User rating\")"
   ]
  },
  {
   "cell_type": "code",
   "execution_count": 79,
   "metadata": {
    "collapsed": false
   },
   "outputs": [
    {
     "data": {
      "text/plain": [
       "(27211, 3)"
      ]
     },
     "execution_count": 79,
     "metadata": {},
     "output_type": "execute_result"
    }
   ],
   "source": [
    "df.shape"
   ]
  },
  {
   "cell_type": "code",
   "execution_count": null,
   "metadata": {
    "collapsed": true
   },
   "outputs": [],
   "source": []
  },
  {
   "cell_type": "code",
   "execution_count": null,
   "metadata": {
    "collapsed": true
   },
   "outputs": [],
   "source": []
  },
  {
   "cell_type": "code",
   "execution_count": null,
   "metadata": {
    "collapsed": true
   },
   "outputs": [],
   "source": []
  },
  {
   "cell_type": "code",
   "execution_count": null,
   "metadata": {
    "collapsed": true
   },
   "outputs": [],
   "source": []
  },
  {
   "cell_type": "code",
   "execution_count": null,
   "metadata": {
    "collapsed": true
   },
   "outputs": [],
   "source": []
  },
  {
   "cell_type": "code",
   "execution_count": null,
   "metadata": {
    "collapsed": true
   },
   "outputs": [],
   "source": []
  },
  {
   "cell_type": "code",
   "execution_count": null,
   "metadata": {
    "collapsed": true
   },
   "outputs": [],
   "source": []
  },
  {
   "cell_type": "code",
   "execution_count": null,
   "metadata": {
    "collapsed": true
   },
   "outputs": [],
   "source": []
  },
  {
   "cell_type": "code",
   "execution_count": null,
   "metadata": {
    "collapsed": true
   },
   "outputs": [],
   "source": []
  },
  {
   "cell_type": "code",
   "execution_count": null,
   "metadata": {
    "collapsed": true
   },
   "outputs": [],
   "source": []
  },
  {
   "cell_type": "code",
   "execution_count": null,
   "metadata": {
    "collapsed": true
   },
   "outputs": [],
   "source": []
  },
  {
   "cell_type": "code",
   "execution_count": null,
   "metadata": {
    "collapsed": true
   },
   "outputs": [],
   "source": []
  },
  {
   "cell_type": "code",
   "execution_count": null,
   "metadata": {
    "collapsed": true
   },
   "outputs": [],
   "source": []
  },
  {
   "cell_type": "code",
   "execution_count": null,
   "metadata": {
    "collapsed": true
   },
   "outputs": [],
   "source": []
  },
  {
   "cell_type": "code",
   "execution_count": null,
   "metadata": {
    "collapsed": true
   },
   "outputs": [],
   "source": []
  },
  {
   "cell_type": "code",
   "execution_count": null,
   "metadata": {
    "collapsed": true
   },
   "outputs": [],
   "source": []
  },
  {
   "cell_type": "code",
   "execution_count": null,
   "metadata": {
    "collapsed": true
   },
   "outputs": [],
   "source": []
  },
  {
   "cell_type": "code",
   "execution_count": null,
   "metadata": {
    "collapsed": true
   },
   "outputs": [],
   "source": []
  },
  {
   "cell_type": "code",
   "execution_count": null,
   "metadata": {
    "collapsed": true
   },
   "outputs": [],
   "source": []
  },
  {
   "cell_type": "code",
   "execution_count": null,
   "metadata": {
    "collapsed": true
   },
   "outputs": [],
   "source": []
  },
  {
   "cell_type": "code",
   "execution_count": null,
   "metadata": {
    "collapsed": true
   },
   "outputs": [],
   "source": []
  },
  {
   "cell_type": "code",
   "execution_count": null,
   "metadata": {
    "collapsed": true
   },
   "outputs": [],
   "source": []
  },
  {
   "cell_type": "code",
   "execution_count": null,
   "metadata": {
    "collapsed": true
   },
   "outputs": [],
   "source": []
  },
  {
   "cell_type": "code",
   "execution_count": null,
   "metadata": {
    "collapsed": true
   },
   "outputs": [],
   "source": []
  },
  {
   "cell_type": "code",
   "execution_count": null,
   "metadata": {
    "collapsed": true
   },
   "outputs": [],
   "source": []
  }
 ],
 "metadata": {
  "kernelspec": {
   "display_name": "Python 2",
   "language": "python",
   "name": "python2"
  },
  "language_info": {
   "codemirror_mode": {
    "name": "ipython",
    "version": 2
   },
   "file_extension": ".py",
   "mimetype": "text/x-python",
   "name": "python",
   "nbconvert_exporter": "python",
   "pygments_lexer": "ipython2",
   "version": "2.7.6"
  }
 },
 "nbformat": 4,
 "nbformat_minor": 0
}
