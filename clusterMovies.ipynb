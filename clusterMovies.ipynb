{
 "cells": [
  {
   "cell_type": "code",
   "execution_count": 2,
   "metadata": {
    "collapsed": true
   },
   "outputs": [],
   "source": [
    "import warnings\n",
    "warnings.filterwarnings('ignore')\n",
    "\n",
    "import sklearn\n",
    "import pandas as pd\n",
    "\n",
    "import matplotlib\n",
    "import matplotlib.pyplot as plt\n",
    "%matplotlib inline  \n",
    "\n",
    "import re"
   ]
  },
  {
   "cell_type": "markdown",
   "metadata": {},
   "source": [
    "For our Movie recommendation system project, we used a set of three datasets containing details of movies, users and ratings. But the movies dataset only had generes for the movies. In order to gain additional features for the movies(so we can develop a better recommendation model), we used scrapy framework to extract additioanl information like director, cast, year of release and imDB rating for the movies in the movies dataset. We wrote these additional features to items.csv file."
   ]
  },
  {
   "cell_type": "code",
   "execution_count": 2,
   "metadata": {
    "collapsed": false
   },
   "outputs": [
    {
     "name": "stdout",
     "output_type": "stream",
     "text": [
      "3884\n"
     ]
    }
   ],
   "source": [
    "text_file = open(\"movies.dat\", \"r\")\n",
    "lines = text_file.read().split('\\n')\n",
    "print len(lines)"
   ]
  },
  {
   "cell_type": "code",
   "execution_count": 3,
   "metadata": {
    "collapsed": false
   },
   "outputs": [
    {
     "name": "stdout",
     "output_type": "stream",
     "text": [
      "3884\n"
     ]
    }
   ],
   "source": [
    "l=[]\n",
    "for line in lines:\n",
    "    line = line.split(\"::\")\n",
    "    l.append(line) \n",
    "print len(l)"
   ]
  },
  {
   "cell_type": "code",
   "execution_count": 7,
   "metadata": {
    "collapsed": true
   },
   "outputs": [],
   "source": [
    "listOfMovies = l[:3883]"
   ]
  },
  {
   "cell_type": "markdown",
   "metadata": {},
   "source": [
    "We then used regex to extract the movie name and year of release from the oroginal movies dataset, so we can merge this datset with additional features from items.csv file."
   ]
  },
  {
   "cell_type": "code",
   "execution_count": 8,
   "metadata": {
    "collapsed": false
   },
   "outputs": [
    {
     "name": "stdout",
     "output_type": "stream",
     "text": [
      "3883\n"
     ]
    }
   ],
   "source": [
    "movieList = []\n",
    "count = 0\n",
    "for item in listOfMovies:\n",
    "    #matchObj = re.findall(r'\\s*,', item[1])\n",
    "    if re.search(r'\\S+\\,\\s', item[1]):\n",
    "        #print \"inside if\"\n",
    "        li = re.split(r',\\s', item[1])\n",
    "        year = re.findall(r'(\\d{4})', li[1])\n",
    "        last_name = re.findall(r'[^(\\d)]+', li[1])\n",
    "        li[1] = last_name[0]\n",
    "        name = li[1] + li[0]\n",
    "        movieList.append([item[0], name, year, item[2]])\n",
    "    else:\n",
    "        #count = count + 1\n",
    "        #print count\n",
    "        year = re.findall(r'(\\d{4})', item[1])\n",
    "        name = re.findall(r'[^(\\d)]+', item[1])\n",
    "        movieList.append([item[0], name[0], year, item[2]])\n",
    "print len(movieList)"
   ]
  },
  {
   "cell_type": "code",
   "execution_count": 9,
   "metadata": {
    "collapsed": false
   },
   "outputs": [
    {
     "data": {
      "text/plain": [
       "['73', 'Les Mis\\xe9rables', ['1995'], 'Drama|Musical']"
      ]
     },
     "execution_count": 9,
     "metadata": {},
     "output_type": "execute_result"
    }
   ],
   "source": [
    "movieList[72]"
   ]
  },
  {
   "cell_type": "code",
   "execution_count": 10,
   "metadata": {
    "collapsed": false
   },
   "outputs": [
    {
     "name": "stdout",
     "output_type": "stream",
     "text": [
      "3883\n"
     ]
    }
   ],
   "source": [
    "moviesList = []\n",
    "for movie in movieList:\n",
    "    moviesList.append([movie[0], movie[1][:-1], movie[2], movie[3]])\n",
    "print len(moviesList) "
   ]
  },
  {
   "cell_type": "markdown",
   "metadata": {},
   "source": [
    "Code to merge the movies from original movies dataset and items.csv file. We also displayed a record from the merged movies list to get an idea of record layout."
   ]
  },
  {
   "cell_type": "code",
   "execution_count": 11,
   "metadata": {
    "collapsed": false
   },
   "outputs": [
    {
     "name": "stdout",
     "output_type": "stream",
     "text": [
      "2033\n"
     ]
    }
   ],
   "source": [
    "import csv\n",
    "f = open('items', 'rt')\n",
    "myList1 = []\n",
    "try:\n",
    "    reader = csv.reader(f)\n",
    "    for row in reader:\n",
    "        for movie in moviesList:\n",
    "            if ((movie[1] == row[3]) and (movie[2][0] == row[2])):\n",
    "                cast = (re.split(r',', row[1]))[:2]\n",
    "                cast = ', '.join(cast)\n",
    "                myList1.append([movie[0], movie[3], movie[1], movie[2][0], row[0], cast, row[4]])\n",
    "                \n",
    "finally:\n",
    "    f.close()\n",
    "print len(myList1)"
   ]
  },
  {
   "cell_type": "code",
   "execution_count": 12,
   "metadata": {
    "collapsed": false
   },
   "outputs": [
    {
     "data": {
      "text/plain": [
       "['3950',\n",
       " 'Drama',\n",
       " 'Tigerland',\n",
       " '2000',\n",
       " 'Joel Schumacher',\n",
       " 'Colin Farrell, Matthew Davis',\n",
       " '7']"
      ]
     },
     "execution_count": 12,
     "metadata": {},
     "output_type": "execute_result"
    }
   ],
   "source": [
    "myList1[2032]"
   ]
  },
  {
   "cell_type": "markdown",
   "metadata": {},
   "source": [
    "Writing the merged list to a new movies dataset. We also did a check to find out the number of unique movie IDs in the merged movies dataset. From the list of original 3000 movies, we could gather all additioanl information for only 2033 movies. So this is the final lsit of movies that we worked with for our recommendation system."
   ]
  },
  {
   "cell_type": "code",
   "execution_count": 13,
   "metadata": {
    "collapsed": true
   },
   "outputs": [],
   "source": [
    "with open('mergedMovies', 'a') as outcsv:   \n",
    "    writer = csv.writer(outcsv, delimiter=',', quoting=csv.QUOTE_MINIMAL, lineterminator='\\n')\n",
    "    for item in myList1:\n",
    "        writer.writerow([item[0], item[1], item[2], item[3], item[4], item[5], item[6]]) "
   ]
  },
  {
   "cell_type": "code",
   "execution_count": 16,
   "metadata": {
    "collapsed": false
   },
   "outputs": [
    {
     "name": "stdout",
     "output_type": "stream",
     "text": [
      "2033\n"
     ]
    }
   ],
   "source": [
    "f = open('mergedMovies', 'rt')\n",
    "idList = []\n",
    "try:\n",
    "    reader = csv.reader(f)\n",
    "    for row in reader:\n",
    "        idList.append(row[0])\n",
    "                \n",
    "finally:\n",
    "    f.close()\n",
    "print len(idList) "
   ]
  },
  {
   "cell_type": "code",
   "execution_count": 17,
   "metadata": {
    "collapsed": false
   },
   "outputs": [
    {
     "data": {
      "text/plain": [
       "'3950'"
      ]
     },
     "execution_count": 17,
     "metadata": {},
     "output_type": "execute_result"
    }
   ],
   "source": [
    "idList[2032]"
   ]
  },
  {
   "cell_type": "markdown",
   "metadata": {},
   "source": [
    "We parsed the original ratings dataset that had about a million user ratings and extracted only ratings for the 2033 movies from our merged movies dataset. We ended up creating a new ratings dataset with about 579,000 records."
   ]
  },
  {
   "cell_type": "code",
   "execution_count": 18,
   "metadata": {
    "collapsed": false
   },
   "outputs": [
    {
     "name": "stdout",
     "output_type": "stream",
     "text": [
      "579884\n"
     ]
    }
   ],
   "source": [
    "f = open('ratingscsv', 'rt')\n",
    "ratingList = []\n",
    "try:\n",
    "    reader = csv.reader(f)\n",
    "    for row in reader:\n",
    "        if row[1] in idList:\n",
    "            ratingList.append(row)                \n",
    "finally:\n",
    "    f.close()\n",
    "print len(ratingList) "
   ]
  },
  {
   "cell_type": "code",
   "execution_count": 19,
   "metadata": {
    "collapsed": true
   },
   "outputs": [],
   "source": [
    "with open('newRatings', 'a') as outcsv:   \n",
    "    writer = csv.writer(outcsv, delimiter=',', quoting=csv.QUOTE_MINIMAL, lineterminator='\\n')\n",
    "    for item in ratingList:\n",
    "        writer.writerow([item[0], item[1], item[2], item[3]]) "
   ]
  },
  {
   "cell_type": "markdown",
   "metadata": {},
   "source": [
    "Including a sanity check to ensure all 6040 users have representation in the new ratings dataset."
   ]
  },
  {
   "cell_type": "code",
   "execution_count": 20,
   "metadata": {
    "collapsed": false
   },
   "outputs": [
    {
     "name": "stdout",
     "output_type": "stream",
     "text": [
      "6040\n"
     ]
    }
   ],
   "source": [
    "f = open('newRatings', 'rt')\n",
    "userList = []\n",
    "try:\n",
    "    reader = csv.reader(f)\n",
    "    for row in reader:\n",
    "        if row[0] not in userList:\n",
    "            userList.append(row[0])                \n",
    "finally:\n",
    "    f.close()\n",
    "print len(userList) "
   ]
  },
  {
   "cell_type": "code",
   "execution_count": 24,
   "metadata": {
    "collapsed": false
   },
   "outputs": [],
   "source": [
    "movie_data = pd.read_csv(\"mergedMovies\")"
   ]
  },
  {
   "cell_type": "code",
   "execution_count": 25,
   "metadata": {
    "collapsed": false
   },
   "outputs": [
    {
     "data": {
      "text/html": [
       "<div>\n",
       "<table border=\"1\" class=\"dataframe\">\n",
       "  <thead>\n",
       "    <tr style=\"text-align: right;\">\n",
       "      <th></th>\n",
       "      <th>Movie ID</th>\n",
       "      <th>Genre</th>\n",
       "      <th>Name</th>\n",
       "      <th>Year</th>\n",
       "      <th>Director</th>\n",
       "      <th>Cast</th>\n",
       "      <th>imDB rating</th>\n",
       "    </tr>\n",
       "  </thead>\n",
       "  <tbody>\n",
       "    <tr>\n",
       "      <th>0</th>\n",
       "      <td>2</td>\n",
       "      <td>Adventure|Children's|Fantasy</td>\n",
       "      <td>Jumanji</td>\n",
       "      <td>1995</td>\n",
       "      <td>Joe Johnston</td>\n",
       "      <td>Robin Williams, Jonathan Hyde</td>\n",
       "      <td>6.9</td>\n",
       "    </tr>\n",
       "    <tr>\n",
       "      <th>1</th>\n",
       "      <td>1</td>\n",
       "      <td>Animation|Children's|Comedy</td>\n",
       "      <td>Toy Story</td>\n",
       "      <td>1995</td>\n",
       "      <td>John Lasseter</td>\n",
       "      <td>Tom Hanks, Tim Allen</td>\n",
       "      <td>8.3</td>\n",
       "    </tr>\n",
       "    <tr>\n",
       "      <th>2</th>\n",
       "      <td>8</td>\n",
       "      <td>Adventure|Children's</td>\n",
       "      <td>Tom and Huck</td>\n",
       "      <td>1995</td>\n",
       "      <td>Peter Hewitt</td>\n",
       "      <td>Jonathan Taylor Thomas, Brad Renfro</td>\n",
       "      <td>5.6</td>\n",
       "    </tr>\n",
       "    <tr>\n",
       "      <th>3</th>\n",
       "      <td>5</td>\n",
       "      <td>Comedy</td>\n",
       "      <td>Father of the Bride Part II</td>\n",
       "      <td>1995</td>\n",
       "      <td>Charles Shyer</td>\n",
       "      <td>Steve Martin, Diane Keaton</td>\n",
       "      <td>5.9</td>\n",
       "    </tr>\n",
       "    <tr>\n",
       "      <th>4</th>\n",
       "      <td>7</td>\n",
       "      <td>Comedy|Romance</td>\n",
       "      <td>Sabrina</td>\n",
       "      <td>1995</td>\n",
       "      <td>Sydney Pollack</td>\n",
       "      <td>Harrison Ford, Julia Ormond</td>\n",
       "      <td>6.2</td>\n",
       "    </tr>\n",
       "  </tbody>\n",
       "</table>\n",
       "</div>"
      ],
      "text/plain": [
       "   Movie ID                         Genre                         Name  Year  \\\n",
       "0         2  Adventure|Children's|Fantasy                      Jumanji  1995   \n",
       "1         1   Animation|Children's|Comedy                    Toy Story  1995   \n",
       "2         8          Adventure|Children's                 Tom and Huck  1995   \n",
       "3         5                        Comedy  Father of the Bride Part II  1995   \n",
       "4         7                Comedy|Romance                      Sabrina  1995   \n",
       "\n",
       "         Director                                 Cast  imDB rating  \n",
       "0    Joe Johnston        Robin Williams, Jonathan Hyde          6.9  \n",
       "1   John Lasseter                 Tom Hanks, Tim Allen          8.3  \n",
       "2    Peter Hewitt  Jonathan Taylor Thomas, Brad Renfro          5.6  \n",
       "3   Charles Shyer           Steve Martin, Diane Keaton          5.9  \n",
       "4  Sydney Pollack          Harrison Ford, Julia Ormond          6.2  "
      ]
     },
     "execution_count": 25,
     "metadata": {},
     "output_type": "execute_result"
    }
   ],
   "source": [
    "movie_data.head()"
   ]
  },
  {
   "cell_type": "code",
   "execution_count": 26,
   "metadata": {
    "collapsed": false
   },
   "outputs": [],
   "source": [
    "#genres = {\"Action\":0,\"Adventure\":0,\"Animation\":0,\"Children's\":0,}\n",
    "genres={}\n",
    "num = {}\n",
    "cast=[]\n",
    "director = []\n",
    "for index,it in movie_data.iterrows():\n",
    "    genre= it[\"Genre\"]\n",
    "    genre = genre.split(\"|\")\n",
    "    s = str(it[\"Cast\"])\n",
    "    s1 = str(it[\"Director\"])\n",
    "    cast.append(unicode(s, \"utf-8\"))\n",
    "    director.append(unicode(s1, \"utf-8\"))\n",
    "    for g in genre:\n",
    "        genres[g] = 0;"
   ]
  },
  {
   "cell_type": "markdown",
   "metadata": {},
   "source": [
    "Iterate the movie data frame to find all unique genres the dataset have and get the cast list and the director list of all movies."
   ]
  },
  {
   "cell_type": "code",
   "execution_count": 27,
   "metadata": {
    "collapsed": true
   },
   "outputs": [],
   "source": [
    "from sklearn.feature_extraction import DictVectorizer\n",
    "from sklearn.feature_extraction.text import CountVectorizer\n",
    "vectorizer_director = CountVectorizer(min_df=1)\n",
    "vectorizer_cast = CountVectorizer(min_df=1)\n",
    "X_cast = vectorizer_director.fit_transform(cast)\n",
    "cast = X_cast.toarray()\n",
    "X_director = vectorizer_cast.fit_transform(director)\n",
    "director = X_director.toarray()"
   ]
  },
  {
   "cell_type": "markdown",
   "metadata": {},
   "source": [
    "Extract features and vectorize features from two text lists of directors and casts."
   ]
  },
  {
   "cell_type": "code",
   "execution_count": 28,
   "metadata": {
    "collapsed": false
   },
   "outputs": [],
   "source": [
    "feature = {}\n",
    "features = []\n",
    "for key in genres.keys():\n",
    "    feature[key] = 0\n",
    "for index,it in movie_data.iterrows():\n",
    "    tmp_feature = feature.copy()\n",
    "    genre= it[\"Genre\"]\n",
    "    genre = genre.split(\"|\")\n",
    "    for g in genre:\n",
    "        tmp_feature[g] = 1\n",
    "    features.append(tmp_feature)"
   ]
  },
  {
   "cell_type": "markdown",
   "metadata": {},
   "source": [
    "\"feature\" is a dictionary with all genres as keys and 0 as values, and iterate all movies to get tmp_feature for each movie genres and append it a \"features\" list. \"features\" list represents genres information about all movies."
   ]
  },
  {
   "cell_type": "code",
   "execution_count": 29,
   "metadata": {
    "collapsed": true
   },
   "outputs": [],
   "source": [
    "measurements = []\n",
    "for i in range(len(features)):\n",
    "    fea = list(features[i].values())\n",
    "    measurements.append(fea+list(director[i])+list(cast[i]))"
   ]
  },
  {
   "cell_type": "markdown",
   "metadata": {},
   "source": [
    "\"measurements\" is a list representing features(genres,directors, casts) of all movies, obtained from adding genre vector,cast vector and director vector."
   ]
  },
  {
   "cell_type": "code",
   "execution_count": 30,
   "metadata": {
    "collapsed": false
   },
   "outputs": [
    {
     "data": {
      "text/plain": [
       "2033"
      ]
     },
     "execution_count": 30,
     "metadata": {},
     "output_type": "execute_result"
    }
   ],
   "source": [
    "len(measurements)"
   ]
  },
  {
   "cell_type": "code",
   "execution_count": 31,
   "metadata": {
    "collapsed": false
   },
   "outputs": [
    {
     "data": {
      "text/plain": [
       "<matplotlib.collections.PathCollection at 0x3ec2d240>"
      ]
     },
     "execution_count": 31,
     "metadata": {},
     "output_type": "execute_result"
    },
    {
     "data": {
      "image/png": "[encoded data removed]",
      "text/plain": [
       "<matplotlib.figure.Figure at 0x268c5f60>"
      ]
     },
     "metadata": {},
     "output_type": "display_data"
    }
   ],
   "source": [
    "from sklearn.decomposition import PCA\n",
    "pca = PCA(n_components=2)\n",
    "pca.fit(measurements)\n",
    "measure_reduced = pca.transform(measurements)\n",
    "import pylab as pl\n",
    "pl.scatter(measure_reduced[:, 0], measure_reduced[:, 1])"
   ]
  },
  {
   "cell_type": "markdown",
   "metadata": {},
   "source": [
    "Use PCA to reduce the dimentionality of the movies feature dataset and scatter the results. We can see three movie clusters generated. "
   ]
  },
  {
   "cell_type": "code",
   "execution_count": 32,
   "metadata": {
    "collapsed": false
   },
   "outputs": [
    {
     "data": {
      "image/png": "[encoded data removed]",
      "text/plain": [
       "<matplotlib.figure.Figure at 0x3ec154e0>"
      ]
     },
     "metadata": {},
     "output_type": "display_data"
    }
   ],
   "source": [
    "from sklearn.cluster import KMeans\n",
    "k_means = KMeans(n_clusters=3, random_state=0) # Fixing the RNG in kmeans\n",
    "k_means.fit(measure_reduced)\n",
    "\n",
    "\n",
    "pl.scatter(measure_reduced[:, 0], measure_reduced[:, 1], c=k_means.labels_,\n",
    "           cmap='rainbow');"
   ]
  },
  {
   "cell_type": "markdown",
   "metadata": {},
   "source": [
    "use k-means to cluster movies."
   ]
  },
  {
   "cell_type": "code",
   "execution_count": 33,
   "metadata": {
    "collapsed": false
   },
   "outputs": [
    {
     "name": "stdout",
     "output_type": "stream",
     "text": [
      "3\n"
     ]
    },
    {
     "data": {
      "image/png": "[encoded data removed]",
      "text/plain": [
       "<matplotlib.figure.Figure at 0x3f2d10b8>"
      ]
     },
     "metadata": {},
     "output_type": "display_data"
    }
   ],
   "source": [
    "from sklearn.cluster import DBSCAN \n",
    "db_scan = DBSCAN(eps=0.5, min_samples=70)\n",
    "db_scan.fit(measure_reduced)\n",
    "\n",
    "print(len(set(db_scan.labels_)))\n",
    "pl.scatter(measure_reduced[:, 0], measure_reduced[:, 1], c=db_scan.labels_,\n",
    "           cmap='rainbow');\n"
   ]
  },
  {
   "cell_type": "markdown",
   "metadata": {},
   "source": [
    "use DBSCAN to cluster movies. Looks better compared to above result."
   ]
  },
  {
   "cell_type": "markdown",
   "metadata": {},
   "source": [
    "Obtain three clusters dataframe and write these into csv files."
   ]
  },
  {
   "cell_type": "code",
   "execution_count": 34,
   "metadata": {
    "collapsed": true
   },
   "outputs": [],
   "source": [
    "movie_data[\"label\"] = db_scan.labels_"
   ]
  },
  {
   "cell_type": "code",
   "execution_count": 35,
   "metadata": {
    "collapsed": true
   },
   "outputs": [],
   "source": [
    "movie_data_0 = movie_data[movie_data.label==0]\n",
    "movie_data_1 = movie_data[movie_data.label==1]\n",
    "movie_data_2 = movie_data[movie_data.label==2]\n",
    "movie_data_0.head()\n",
    "movie_data_0.to_csv(\"movie_set_0.csv\")\n",
    "movie_data_1.to_csv(\"movie_set_1.csv\")\n",
    "movie_data_2.to_csv(\"movie_set_2.csv\")"
   ]
  },
  {
   "cell_type": "code",
   "execution_count": 36,
   "metadata": {
    "collapsed": false
   },
   "outputs": [
    {
     "data": {
      "text/plain": [
       "2033"
      ]
     },
     "execution_count": 36,
     "metadata": {},
     "output_type": "execute_result"
    }
   ],
   "source": [
    "len(movie_data_0)+len(movie_data_1)+len(movie_data_2)"
   ]
  },
  {
   "cell_type": "markdown",
   "metadata": {},
   "source": [
    "Separate ratings into three files based on movies clusters"
   ]
  },
  {
   "cell_type": "code",
   "execution_count": 38,
   "metadata": {
    "collapsed": false
   },
   "outputs": [
    {
     "data": {
      "text/html": [
       "<div>\n",
       "<table border=\"1\" class=\"dataframe\">\n",
       "  <thead>\n",
       "    <tr style=\"text-align: right;\">\n",
       "      <th></th>\n",
       "      <th>UserID</th>\n",
       "      <th>MovieID</th>\n",
       "      <th>Rating</th>\n",
       "      <th>Timestamp</th>\n",
       "    </tr>\n",
       "  </thead>\n",
       "  <tbody>\n",
       "    <tr>\n",
       "      <th>0</th>\n",
       "      <td>1</td>\n",
       "      <td>661</td>\n",
       "      <td>3</td>\n",
       "      <td>978302109</td>\n",
       "    </tr>\n",
       "    <tr>\n",
       "      <th>1</th>\n",
       "      <td>1</td>\n",
       "      <td>914</td>\n",
       "      <td>3</td>\n",
       "      <td>978301968</td>\n",
       "    </tr>\n",
       "    <tr>\n",
       "      <th>2</th>\n",
       "      <td>1</td>\n",
       "      <td>3408</td>\n",
       "      <td>4</td>\n",
       "      <td>978300275</td>\n",
       "    </tr>\n",
       "    <tr>\n",
       "      <th>3</th>\n",
       "      <td>1</td>\n",
       "      <td>1287</td>\n",
       "      <td>5</td>\n",
       "      <td>978302039</td>\n",
       "    </tr>\n",
       "    <tr>\n",
       "      <th>4</th>\n",
       "      <td>1</td>\n",
       "      <td>594</td>\n",
       "      <td>4</td>\n",
       "      <td>978302268</td>\n",
       "    </tr>\n",
       "  </tbody>\n",
       "</table>\n",
       "</div>"
      ],
      "text/plain": [
       "   UserID  MovieID  Rating  Timestamp\n",
       "0       1      661       3  978302109\n",
       "1       1      914       3  978301968\n",
       "2       1     3408       4  978300275\n",
       "3       1     1287       5  978302039\n",
       "4       1      594       4  978302268"
      ]
     },
     "execution_count": 38,
     "metadata": {},
     "output_type": "execute_result"
    }
   ],
   "source": [
    "names = ['UserID', 'MovieID', 'Rating', 'Timestamp']\n",
    "df = pd.read_csv(\"newRatings.csv\", names=names, header=0)\n",
    "df.head()"
   ]
  },
  {
   "cell_type": "code",
   "execution_count": 39,
   "metadata": {
    "collapsed": true
   },
   "outputs": [],
   "source": [
    "movie_df_0 = pd.read_csv(\"movie_set_0.csv\")\n",
    "movie_df_0 = movie_df_0.drop(movie_df_0.columns[0],axis=1)\n",
    "\n",
    "movie_df_1 = pd.read_csv(\"movie_set_1.csv\")\n",
    "movie_df_1 = movie_df_1.drop(movie_df_1.columns[0],axis=1)\n",
    "\n",
    "movie_df_2 = pd.read_csv(\"movie_set_2.csv\")\n",
    "movie_df_2 = movie_df_2.drop(movie_df_2.columns[0],axis=1)\n"
   ]
  },
  {
   "cell_type": "code",
   "execution_count": 40,
   "metadata": {
    "collapsed": true
   },
   "outputs": [],
   "source": [
    "first_cluster = movie_df_0[\"Movie ID\"].tolist()\n",
    "second_cluster = movie_df_1[\"Movie ID\"].tolist()\n",
    "third_cluster = movie_df_2[\"Movie ID\"].tolist()"
   ]
  },
  {
   "cell_type": "code",
   "execution_count": 41,
   "metadata": {
    "collapsed": true
   },
   "outputs": [],
   "source": [
    "first_ratings_matrix = []\n",
    "second_ratings_matrix = []\n",
    "third_ratings_matrix = []\n",
    "for row in df.itertuples():\n",
    "    if row[2] in first_cluster:\n",
    "        first_ratings_matrix.append([row[1],row[2],row[3],0])\n",
    "    elif row[2] in second_cluster:\n",
    "        second_ratings_matrix.append([row[1],row[2],row[3],1])  \n",
    "    else:\n",
    "        third_ratings_matrix.append([row[1],row[2],row[3],2]) "
   ]
  },
  {
   "cell_type": "markdown",
   "metadata": {},
   "source": [
    "Write ratings clusters into csv files."
   ]
  },
  {
   "cell_type": "code",
   "execution_count": 42,
   "metadata": {
    "collapsed": false
   },
   "outputs": [],
   "source": [
    "import csv\n",
    "with open('FirstRatingsMatrix.csv', 'a') as outcsv:   \n",
    "    writer = csv.writer(outcsv, delimiter=',', quoting=csv.QUOTE_MINIMAL, lineterminator='\\n')\n",
    "    writer.writerow(['UserID','MovieID','Rating','label'])\n",
    "    for item in first_ratings_matrix:\n",
    "        writer.writerow([item[0], item[1], item[2], item[3]])  "
   ]
  },
  {
   "cell_type": "code",
   "execution_count": 43,
   "metadata": {
    "collapsed": true
   },
   "outputs": [],
   "source": [
    "with open('SecondRatingsMatrix.csv', 'a') as outcsv:   \n",
    "    writer = csv.writer(outcsv, delimiter=',', quoting=csv.QUOTE_MINIMAL, lineterminator='\\n')\n",
    "    writer.writerow(['UserID','MovieID','Rating','label'])\n",
    "    for item in second_ratings_matrix:\n",
    "        writer.writerow([item[0], item[1], item[2], item[3]])"
   ]
  },
  {
   "cell_type": "code",
   "execution_count": 44,
   "metadata": {
    "collapsed": true
   },
   "outputs": [],
   "source": [
    "with open('ThirdRatingsMatrix.csv', 'a') as outcsv:   \n",
    "    writer = csv.writer(outcsv, delimiter=',', quoting=csv.QUOTE_MINIMAL, lineterminator='\\n')\n",
    "    writer.writerow(['UserID','MovieID','Rating','label'])\n",
    "    for item in third_ratings_matrix:\n",
    "        writer.writerow([item[0], item[1], item[2], item[3]])"
   ]
  },
  {
   "cell_type": "code",
   "execution_count": 45,
   "metadata": {
    "collapsed": true
   },
   "outputs": [],
   "source": [
    "import math\n",
    "import csv\n",
    "from sklearn import metrics\n",
    "import numpy as np\n",
    "from sklearn.cross_validation import train_test_split\n",
    "from sklearn import linear_model, datasets"
   ]
  },
  {
   "cell_type": "markdown",
   "metadata": {},
   "source": [
    "Logistic regression model for movie recommendation:\n",
    "Reading in the clustered rating datasets and concatenating them to a data frame and then to a file (ratingsWlabels.csv)"
   ]
  },
  {
   "cell_type": "code",
   "execution_count": 46,
   "metadata": {
    "collapsed": true
   },
   "outputs": [],
   "source": [
    "df = pd.read_csv(\"FirstRatingsMatrix.csv\")"
   ]
  },
  {
   "cell_type": "code",
   "execution_count": 47,
   "metadata": {
    "collapsed": true
   },
   "outputs": [],
   "source": [
    "df1 = pd.read_csv(\"SecondRatingsMatrix.csv\")"
   ]
  },
  {
   "cell_type": "code",
   "execution_count": 48,
   "metadata": {
    "collapsed": true
   },
   "outputs": [],
   "source": [
    "df2 = pd.read_csv(\"ThirdRatingsMatrix.csv\")"
   ]
  },
  {
   "cell_type": "code",
   "execution_count": 49,
   "metadata": {
    "collapsed": true
   },
   "outputs": [],
   "source": [
    "df = pd.concat([df, df1, df2])"
   ]
  },
  {
   "cell_type": "code",
   "execution_count": 50,
   "metadata": {
    "collapsed": false
   },
   "outputs": [
    {
     "data": {
      "text/plain": [
       "(579883, 4)"
      ]
     },
     "execution_count": 50,
     "metadata": {},
     "output_type": "execute_result"
    }
   ],
   "source": [
    "df.shape"
   ]
  },
  {
   "cell_type": "code",
   "execution_count": 51,
   "metadata": {
    "collapsed": false
   },
   "outputs": [
    {
     "data": {
      "text/html": [
       "<div>\n",
       "<table border=\"1\" class=\"dataframe\">\n",
       "  <thead>\n",
       "    <tr style=\"text-align: right;\">\n",
       "      <th></th>\n",
       "      <th>UserID</th>\n",
       "      <th>MovieID</th>\n",
       "      <th>Rating</th>\n",
       "      <th>label</th>\n",
       "    </tr>\n",
       "  </thead>\n",
       "  <tbody>\n",
       "    <tr>\n",
       "      <th>0</th>\n",
       "      <td>1</td>\n",
       "      <td>661</td>\n",
       "      <td>3</td>\n",
       "      <td>0</td>\n",
       "    </tr>\n",
       "    <tr>\n",
       "      <th>1</th>\n",
       "      <td>1</td>\n",
       "      <td>914</td>\n",
       "      <td>3</td>\n",
       "      <td>0</td>\n",
       "    </tr>\n",
       "    <tr>\n",
       "      <th>2</th>\n",
       "      <td>1</td>\n",
       "      <td>594</td>\n",
       "      <td>4</td>\n",
       "      <td>0</td>\n",
       "    </tr>\n",
       "    <tr>\n",
       "      <th>3</th>\n",
       "      <td>1</td>\n",
       "      <td>938</td>\n",
       "      <td>4</td>\n",
       "      <td>0</td>\n",
       "    </tr>\n",
       "    <tr>\n",
       "      <th>4</th>\n",
       "      <td>1</td>\n",
       "      <td>2687</td>\n",
       "      <td>3</td>\n",
       "      <td>0</td>\n",
       "    </tr>\n",
       "  </tbody>\n",
       "</table>\n",
       "</div>"
      ],
      "text/plain": [
       "   UserID  MovieID  Rating  label\n",
       "0       1      661       3      0\n",
       "1       1      914       3      0\n",
       "2       1      594       4      0\n",
       "3       1      938       4      0\n",
       "4       1     2687       3      0"
      ]
     },
     "execution_count": 51,
     "metadata": {},
     "output_type": "execute_result"
    }
   ],
   "source": [
    "df.head()"
   ]
  },
  {
   "cell_type": "code",
   "execution_count": 52,
   "metadata": {
    "collapsed": true
   },
   "outputs": [],
   "source": [
    "df.to_csv(\"ratingsWlabels\")"
   ]
  },
  {
   "cell_type": "code",
   "execution_count": 53,
   "metadata": {
    "collapsed": false
   },
   "outputs": [
    {
     "name": "stdout",
     "output_type": "stream",
     "text": [
      "12081\n"
     ]
    }
   ],
   "source": [
    "f = open('userscsv', 'rt')\n",
    "userList = []\n",
    "try:\n",
    "    reader = csv.reader(f)\n",
    "    for row in reader:\n",
    "        userList.append([row[0], row[1], row[2], row[3], row[4]])\n",
    "                \n",
    "finally:\n",
    "    f.close()\n",
    "print len(userList) "
   ]
  },
  {
   "cell_type": "code",
   "execution_count": 54,
   "metadata": {
    "collapsed": false
   },
   "outputs": [
    {
     "data": {
      "text/plain": [
       "['6040', 'M', '25', '6', '11106']"
      ]
     },
     "execution_count": 54,
     "metadata": {},
     "output_type": "execute_result"
    }
   ],
   "source": [
    "userList = userList[:6041]\n",
    "userList[6040]"
   ]
  },
  {
   "cell_type": "code",
   "execution_count": 55,
   "metadata": {
    "collapsed": false
   },
   "outputs": [
    {
     "name": "stdout",
     "output_type": "stream",
     "text": [
      "579884\n"
     ]
    }
   ],
   "source": [
    "f = open('ratingsWlabels', 'rt')\n",
    "ratingsList = []\n",
    "try:\n",
    "    reader = csv.reader(f)\n",
    "    for row in reader:\n",
    "        ratingsList.append(row)\n",
    "                \n",
    "finally:\n",
    "    f.close()\n",
    "print len(ratingsList) "
   ]
  },
  {
   "cell_type": "markdown",
   "metadata": {},
   "source": [
    "Including additional features for the users(age group and occupation) from the users.csv dataset to the ratingsWlabels dataset."
   ]
  },
  {
   "cell_type": "code",
   "execution_count": 56,
   "metadata": {
    "collapsed": false
   },
   "outputs": [
    {
     "name": "stdout",
     "output_type": "stream",
     "text": [
      "579883\n"
     ]
    }
   ],
   "source": [
    "ratingsList1 = []\n",
    "for row in ratingsList:\n",
    "    for item in userList:\n",
    "        if(row[1] == item[0]):\n",
    "            ratingsList1.append([row[1], item[2], item[3], row[2], row[4], row[3]])\n",
    "print len(ratingsList1) "
   ]
  },
  {
   "cell_type": "code",
   "execution_count": 57,
   "metadata": {
    "collapsed": false
   },
   "outputs": [
    {
     "data": {
      "text/plain": [
       "['1', '1', '10', '661', '0', '3']"
      ]
     },
     "execution_count": 57,
     "metadata": {},
     "output_type": "execute_result"
    }
   ],
   "source": [
    "ratingsList1[0]"
   ]
  },
  {
   "cell_type": "markdown",
   "metadata": {},
   "source": [
    "Converting the strings in the ratings list to numbers inorder to be compatible for logistic regression model"
   ]
  },
  {
   "cell_type": "code",
   "execution_count": 58,
   "metadata": {
    "collapsed": false
   },
   "outputs": [
    {
     "data": {
      "text/plain": [
       "[1, 1, 10, 661, 0, 3]"
      ]
     },
     "execution_count": 58,
     "metadata": {},
     "output_type": "execute_result"
    }
   ],
   "source": [
    "numList = []\n",
    "for item in ratingsList1:\n",
    "    item1 = list(map(int, item))\n",
    "    numList.append(item1)\n",
    "numList[0]    "
   ]
  },
  {
   "cell_type": "markdown",
   "metadata": {},
   "source": [
    "The first 5 values in each record are considered as features(uesr ID, user age group, user occupation, movie ID, movie cluster label) and the last value(rating) is considered as target."
   ]
  },
  {
   "cell_type": "code",
   "execution_count": 59,
   "metadata": {
    "collapsed": true
   },
   "outputs": [],
   "source": [
    "X = []\n",
    "y = []\n",
    "for item in numList:\n",
    "    X.append(item[:5])\n",
    "    y.append(item[5])"
   ]
  },
  {
   "cell_type": "markdown",
   "metadata": {},
   "source": [
    "Splitting into training and test data(80% for training and 20% for testing), and fitting the data into logistic regression model."
   ]
  },
  {
   "cell_type": "code",
   "execution_count": 60,
   "metadata": {
    "collapsed": true
   },
   "outputs": [],
   "source": [
    "X_train, X_test, y_train, y_test = train_test_split(X, y, test_size=0.2)"
   ]
  },
  {
   "cell_type": "code",
   "execution_count": 61,
   "metadata": {
    "collapsed": true
   },
   "outputs": [],
   "source": [
    "logreg = linear_model.LogisticRegression(C=1e5)"
   ]
  },
  {
   "cell_type": "code",
   "execution_count": 62,
   "metadata": {
    "collapsed": false
   },
   "outputs": [
    {
     "data": {
      "text/plain": [
       "LogisticRegression(C=100000.0, class_weight=None, dual=False,\n",
       "          fit_intercept=True, intercept_scaling=1, max_iter=100,\n",
       "          multi_class='ovr', n_jobs=1, penalty='l2', random_state=None,\n",
       "          solver='liblinear', tol=0.0001, verbose=0, warm_start=False)"
      ]
     },
     "execution_count": 62,
     "metadata": {},
     "output_type": "execute_result"
    }
   ],
   "source": [
    "logreg.fit(X_train, y_train)"
   ]
  },
  {
   "cell_type": "code",
   "execution_count": 63,
   "metadata": {
    "collapsed": true
   },
   "outputs": [],
   "source": [
    "y_pred = logreg.predict(X_test)"
   ]
  },
  {
   "cell_type": "markdown",
   "metadata": {},
   "source": [
    "We got about 1.4 Mean squared error using this logistic regression model for ratings prediction."
   ]
  },
  {
   "cell_type": "code",
   "execution_count": 65,
   "metadata": {
    "collapsed": false
   },
   "outputs": [
    {
     "data": {
      "text/plain": [
       "1.4339825999982756"
      ]
     },
     "execution_count": 65,
     "metadata": {},
     "output_type": "execute_result"
    }
   ],
   "source": [
    "from sklearn.metrics import mean_squared_error\n",
    "mean_squared_error(y_test,y_pred)"
   ]
  },
  {
   "cell_type": "markdown",
   "metadata": {},
   "source": [
    "Movie recommendation based on prediction using logistic regression:\n",
    "For a coule of users, we looked at the movie details for the movies to which they gave a high rating (>3) in the training dataset and looked at the suggestions for them from out test data based on our prediction. For user ID# 1, the user seems to like Childeren's animation movies and comedies and we could see that our recommendation system came up with similar titles for that user. For user ID# 2, our recommendation system came up with a lot thrillers to align with the user's like of similar movies in the training dataset. "
   ]
  },
  {
   "cell_type": "code",
   "execution_count": 73,
   "metadata": {
    "collapsed": false
   },
   "outputs": [],
   "source": [
    "training_data = []\n",
    "for user,rating in zip(X_train,y_train):\n",
    "    training_data.append([user[0],user[1],user[2],user[3],user[4],rating])"
   ]
  },
  {
   "cell_type": "code",
   "execution_count": 75,
   "metadata": {
    "collapsed": false
   },
   "outputs": [
    {
     "data": {
      "text/plain": [
       "463906"
      ]
     },
     "execution_count": 75,
     "metadata": {},
     "output_type": "execute_result"
    }
   ],
   "source": [
    "len(training_data)"
   ]
  },
  {
   "cell_type": "code",
   "execution_count": 76,
   "metadata": {
    "collapsed": true
   },
   "outputs": [],
   "source": [
    "predicted_data = []\n",
    "for user,rating in zip(X_test,y_pred):\n",
    "    predicted_data.append([user[0],user[1],user[2],user[3],user[4],rating])"
   ]
  },
  {
   "cell_type": "code",
   "execution_count": 77,
   "metadata": {
    "collapsed": false
   },
   "outputs": [
    {
     "data": {
      "text/plain": [
       "115977"
      ]
     },
     "execution_count": 77,
     "metadata": {},
     "output_type": "execute_result"
    }
   ],
   "source": [
    "len(predicted_data)"
   ]
  },
  {
   "cell_type": "code",
   "execution_count": 86,
   "metadata": {
    "collapsed": false
   },
   "outputs": [
    {
     "name": "stdout",
     "output_type": "stream",
     "text": [
      "Movie details: \n",
      "['661', \"Animation|Children's|Musical\", 'James and the Giant Peach', '1996', 'Henry Selick', 'Simon Callow, Richard Dreyfuss', '6.7']\n",
      "rating: \n",
      "3\n",
      "Movie details: \n",
      "['1287', 'Action|Adventure|Drama', 'Ben-Hur', '1959', 'William Wyler', 'Charlton Heston, Jack Hawkins', '8.1']\n",
      "rating: \n",
      "5\n",
      "Movie details: \n",
      "['1566', \"Adventure|Animation|Children's|Comedy|Musical\", 'Hercules', '1997', 'Ron Clements,John Musker', 'Tate Donovan, Josh Keaton', '7.2']\n",
      "rating: \n",
      "4\n",
      "Movie details: \n",
      "['2028', 'Action|Drama|War', 'Saving Private Ryan', '1998', 'Steven Spielberg', 'Tom Hanks, Tom Sizemore', '8.6']\n",
      "rating: \n",
      "5\n",
      "Movie details: \n",
      "['588', \"Animation|Children's|Comedy|Musical\", 'Aladdin', '1992', 'Ron Clements,John Musker', 'Scott Weinger, Robin Williams', '8']\n",
      "rating: \n",
      "4\n",
      "Movie details: \n",
      "['1029', \"Animation|Children's|Musical\", 'Dumbo', '1941', 'Samuel Armstrong,Norman Ferguson', 'James Baskett, Herman Bing', '7.3']\n",
      "rating: \n",
      "5\n",
      "Movie details: \n",
      "['2687', \"Animation|Children's\", 'Tarzan', '1999', 'Chris Buck,Kevin Lima', 'Brian Blessed, Glenn Close', '7.2']\n",
      "rating: \n",
      "3\n",
      "Movie details: \n",
      "['1246', 'Drama', 'Dead Poets Society', '1989', 'Peter Weir', 'Robin Williams, Robert Sean Leonard', '8']\n",
      "rating: \n",
      "4\n",
      "Movie details: \n",
      "['2340', 'Romance', 'Meet Joe Black', '1998', 'Martin Brest', 'Brad Pitt, Anthony Hopkins', '7.1']\n",
      "rating: \n",
      "3\n",
      "Movie details: \n",
      "['594', \"Animation|Children's|Musical\", 'Snow White and the Seven Dwarfs', '1937', 'William Cottrell,David Hand', 'Roy Atwell, Stuart Buchanan', '7.7']\n",
      "rating: \n",
      "4\n",
      "Movie details: \n",
      "['938', 'Musical', 'Gigi', '1958', 'Vincente Minnelli', 'Leslie Caron, Maurice Chevalier', '6.9']\n",
      "rating: \n",
      "4\n",
      "Movie details: \n",
      "['608', 'Crime|Drama|Thriller', 'Fargo', '1996', 'Joel Coen,Ethan Coen', 'William H. Macy, Steve Buscemi', '8.2']\n",
      "rating: \n",
      "4\n",
      "Movie details: \n",
      "['914', 'Musical|Romance', 'My Fair Lady', '1964', 'George Cukor', 'Audrey Hepburn, Rex Harrison', '7.9']\n",
      "rating: \n",
      "3\n",
      "Movie details: \n",
      "['2018', \"Animation|Children's\", 'Bambi', '1942', 'James Algar,Samuel Armstrong', 'Hardie Albright, Stan Alexander', '7.4']\n",
      "rating: \n",
      "4\n",
      "Movie details: \n",
      "['1097', \"Children's|Drama|Fantasy|Sci-Fi\", 'E.T. the Extra-Terrestrial', '1982', 'Steven Spielberg', 'Dee Wallace, Henry Thomas', '7.9']\n",
      "rating: \n",
      "4\n",
      "Movie details: \n",
      "['3408', 'Drama', 'Erin Brockovich', '2000', 'Steven Soderbergh', 'Julia Roberts, David Brisbin', '7.3']\n",
      "rating: \n",
      "4\n",
      "Movie details: \n",
      "['1', \"Animation|Children's|Comedy\", 'Toy Story', '1995', 'John Lasseter', 'Tom Hanks, Tim Allen', '8.3']\n",
      "rating: \n",
      "5\n",
      "Movie details: \n",
      "['1545', 'Drama', 'Ponette', '1996', 'Jacques Doillon', 'Victoire Thivisol, Delphine Schiltz', '7.6']\n",
      "rating: \n",
      "4\n",
      "Movie details: \n",
      "['2294', \"Animation|Children's\", 'Antz', '1998', 'Eric Darnell,Tim Johnson', 'Woody Allen, Dan Aykroyd', '6.6']\n",
      "rating: \n",
      "4\n",
      "Movie details: \n",
      "['527', 'Drama|War', \"Schindler's List\", '1993', 'Steven Spielberg', 'Liam Neeson, Ben Kingsley', '8.9']\n",
      "rating: \n",
      "5\n",
      "Movie details: \n",
      "['2692', 'Action|Crime|Romance', 'Run Lola Run', '1998', 'Tom Tykwer', 'Franka Potente, Moritz Bleibtreu', '7.8']\n",
      "rating: \n",
      "4\n",
      "Movie details: \n",
      "['1207', 'Drama', 'To Kill a Mockingbird', '1962', 'Robert Mulligan', 'Gregory Peck, John Megna', '8.4']\n",
      "rating: \n",
      "4\n",
      "Movie details: \n",
      "['2918', 'Comedy', \"Ferris Bueller's Day Off\", '1986', 'John Hughes', 'Matthew Broderick, Alan Ruck', '7.9']\n",
      "rating: \n",
      "4\n"
     ]
    }
   ],
   "source": [
    "for user in training_data:\n",
    "    if user[0] == 1:\n",
    "        for movies in myList1:\n",
    "            if str(user[3]) == movies[0]:\n",
    "                print \"Movie details: \"\n",
    "                print movies\n",
    "                print \"rating: \"\n",
    "                print user[5]"
   ]
  },
  {
   "cell_type": "code",
   "execution_count": 87,
   "metadata": {
    "collapsed": false
   },
   "outputs": [
    {
     "name": "stdout",
     "output_type": "stream",
     "text": [
      "Movie details: \n",
      "['1961', 'Drama', 'Rain Man', '1988', 'Barry Levinson', 'Dustin Hoffman, Tom Cruise', '8']\n",
      "rating: \n",
      "4\n",
      "Movie details: \n",
      "['1907', \"Animation|Children's\", 'Mulan', '1998', 'Tony Bancroft,Barry Cook', 'Ming-Na Wen, Lea Salonga', '7.5']\n",
      "rating: \n",
      "4\n",
      "Movie details: \n",
      "['1028', \"Children's|Comedy|Musical\", 'Mary Poppins', '1964', 'Robert Stevenson', 'Julie Andrews, Dick Van Dyke', '7.8']\n",
      "rating: \n",
      "4\n",
      "Movie details: \n",
      "['2321', 'Comedy', 'Pleasantville', '1998', 'Gary Ross', 'Tobey Maguire, Reese Witherspoon', '7.5']\n",
      "rating: \n",
      "4\n",
      "Movie details: \n",
      "['1270', 'Comedy|Sci-Fi', 'Back to the Future', '1985', 'Robert Zemeckis', 'Michael J. Fox, Christopher Lloyd', '8.5']\n",
      "rating: \n",
      "4\n",
      "Movie details: \n",
      "['1962', 'Drama', 'Driving Miss Daisy', '1989', 'Bruce Beresford', 'Morgan Freeman, Jessica Tandy', '7.4']\n",
      "rating: \n",
      "4\n"
     ]
    }
   ],
   "source": [
    "for user in predicted_data:\n",
    "    if user[0] == 1:\n",
    "        for movies in myList1:\n",
    "            if str(user[3]) == movies[0]:\n",
    "                print \"Movie details: \"\n",
    "                print movies\n",
    "                print \"rating: \"\n",
    "                print user[5]"
   ]
  },
  {
   "cell_type": "code",
   "execution_count": 88,
   "metadata": {
    "collapsed": false
   },
   "outputs": [
    {
     "name": "stdout",
     "output_type": "stream",
     "text": [
      "Movie details: \n",
      "['1442', 'Drama', 'Prefontaine', '1997', 'Steve James', 'Jared Leto, R. Lee Ermey', '6.8']\n",
      "rating: \n",
      "4\n",
      "Movie details: \n",
      "['2881', 'Action|Thriller', 'Double Jeopardy', '1999', 'Bruce Beresford', 'Tommy Lee Jones, Ashley Judd', '6.4']\n",
      "rating: \n",
      "3\n",
      "Movie details: \n",
      "['3256', 'Action|Thriller', 'Patriot Games', '1992', 'Phillip Noyce', 'Harrison Ford, Anne Archer', '6.9']\n",
      "rating: \n",
      "2\n",
      "Movie details: \n",
      "['2858', 'Comedy|Drama', 'American Beauty', '1999', 'Sam Mendes', 'Kevin Spacey, Annette Bening', '8.4']\n",
      "rating: \n",
      "4\n",
      "Movie details: \n",
      "['2396', 'Comedy|Romance', 'Shakespeare in Love', '1998', 'John Madden', 'Geoffrey Rush, Tom Wilkinson', '7.2']\n",
      "rating: \n",
      "4\n",
      "Movie details: \n",
      "['1245', 'Drama', \"Miller's Crossing\", '1990', 'Joel Coen,Ethan Coen', 'Gabriel Byrne, Marcia Gay Harden', '7.9']\n",
      "rating: \n",
      "2\n",
      "Movie details: \n",
      "['1090', 'Drama|War', 'Platoon', '1986', 'Oliver Stone', 'Tom Berenger, Keith David', '8.1']\n",
      "rating: \n",
      "2\n",
      "Movie details: \n",
      "['2067', 'Drama|Romance|War', 'Doctor Zhivago', '1965', 'David Lean', 'Omar Sharif, Julie Christie', '8']\n",
      "rating: \n",
      "5\n",
      "Movie details: \n",
      "['21', 'Action|Comedy|Drama', 'Get Shorty', '1995', 'Barry Sonnenfeld', 'John Travolta, Gene Hackman', '6.9']\n",
      "rating: \n",
      "1\n",
      "Movie details: \n",
      "['3107', 'Action|Drama', 'Backdraft', '1991', 'Ron Howard', 'Kurt Russell, William Baldwin', '6.7']\n",
      "rating: \n",
      "2\n",
      "Movie details: \n",
      "['736', 'Action|Adventure|Romance|Thriller', 'Twister', '1996', 'Jan de Bont', 'Helen Hunt, Bill Paxton', '6.3']\n",
      "rating: \n",
      "4\n",
      "Movie details: \n",
      "['1193', 'Drama', \"One Flew Over the Cuckoo's Nest\", '1975', 'Milos Forman', 'Michael Berryman, Peter Brocco', '8.7']\n",
      "rating: \n",
      "5\n",
      "Movie details: \n",
      "['3735', 'Crime|Drama', 'Serpico', '1973', 'Sidney Lumet', 'Al Pacino, John Randolph', '7.8']\n",
      "rating: \n",
      "3\n",
      "Movie details: \n",
      "['2278', 'Action|Crime|Thriller', 'Ronin', '1998', 'John Frankenheimer', 'Robert De Niro, Jean Reno', '7.3']\n",
      "rating: \n",
      "3\n",
      "Movie details: \n",
      "['1096', 'Drama', \"Sophie's Choice\", '1982', 'Alan J. Pakula', 'Meryl Streep, Kevin Kline', '7.7']\n",
      "rating: \n",
      "4\n",
      "Movie details: \n",
      "['1265', 'Comedy|Romance', 'Groundhog Day', '1993', 'Harold Ramis', 'Bill Murray, Andie MacDowell', '8.1']\n",
      "rating: \n",
      "3\n",
      "Movie details: \n",
      "['1196', 'Action|Adventure|Drama|Sci-Fi|War', 'Star Wars: Episode V - The Empire Strikes Back', '1980', 'Irvin Kershner', 'Mark Hamill, Harrison Ford', '8.8']\n",
      "rating: \n",
      "5\n",
      "Movie details: \n",
      "['2359', 'Comedy', 'Waking Ned Devine', '1998', 'Kirk Jones', 'Ian Bannen, David Kelly', '7.4']\n",
      "rating: \n",
      "3\n",
      "Movie details: \n",
      "['1103', 'Drama', 'Rebel Without a Cause', '1955', 'Nicholas Ray', 'James Dean, Natalie Wood', '7.8']\n",
      "rating: \n",
      "3\n",
      "Movie details: \n",
      "['1552', 'Action|Adventure|Thriller', 'Con Air', '1997', 'Simon West', 'Colm Meaney, Mykelti Williamson', '6.8']\n",
      "rating: \n",
      "3\n",
      "Movie details: \n",
      "['1690', 'Action|Horror|Sci-Fi', 'Alien: Resurrection', '1997', 'Jean-Pierre Jeunet', 'Sigourney Weaver, Winona Ryder', '6.3']\n",
      "rating: \n",
      "3\n",
      "Movie details: \n",
      "['2028', 'Action|Drama|War', 'Saving Private Ryan', '1998', 'Steven Spielberg', 'Tom Hanks, Tom Sizemore', '8.6']\n",
      "rating: \n",
      "4\n",
      "Movie details: \n",
      "['356', 'Comedy|Romance|War', 'Forrest Gump', '1994', 'Robert Zemeckis', 'Tom Hanks, Rebecca Williams', '8.8']\n",
      "rating: \n",
      "5\n",
      "Movie details: \n",
      "['1945', 'Crime|Drama', 'On the Waterfront', '1954', 'Elia Kazan', 'Marlon Brando, Karl Malden', '8.3']\n",
      "rating: \n",
      "5\n",
      "Movie details: \n",
      "['902', 'Drama|Romance', \"Breakfast at Tiffany's\", '1961', 'Blake Edwards', 'Audrey Hepburn, George Peppard', '7.8']\n",
      "rating: \n",
      "2\n",
      "Movie details: \n",
      "['648', 'Action|Adventure|Mystery', 'Mission: Impossible', '1996', 'Brian De Palma', 'Tom Cruise, Jon Voight', '7.1']\n",
      "rating: \n",
      "4\n",
      "Movie details: \n",
      "['1124', 'Drama', 'On Golden Pond', '1981', 'Mark Rydell', 'Katharine Hepburn, Henry Fonda', '7.7']\n",
      "rating: \n",
      "5\n",
      "Movie details: \n",
      "['349', 'Action|Adventure|Thriller', 'Clear and Present Danger', '1994', 'Phillip Noyce', 'Harrison Ford, Willem Dafoe', '6.9']\n",
      "rating: \n",
      "4\n",
      "Movie details: \n",
      "['163', 'Action|Romance|Thriller', 'Desperado', '1995', 'Robert Rodriguez', 'Antonio Banderas, Salma Hayek', '7.2']\n",
      "rating: \n",
      "4\n",
      "Movie details: \n",
      "['2628', 'Action|Adventure|Fantasy|Sci-Fi', 'Star Wars: Episode I - The Phantom Menace', '1999', 'George Lucas', 'Liam Neeson, Ewan McGregor', '6.5']\n",
      "rating: \n",
      "3\n",
      "Movie details: \n",
      "['1084', 'Crime|Drama', 'Bonnie and Clyde', '1967', 'Arthur Penn', 'Warren Beatty, Faye Dunaway', '7.9']\n",
      "rating: \n",
      "3\n",
      "Movie details: \n",
      "['95', 'Action|Thriller', 'Broken Arrow', '1996', 'John Woo', 'John Travolta, Christian Slater', '6']\n",
      "rating: \n",
      "2\n",
      "Movie details: \n",
      "['2501', 'Drama', 'October Sky', '1999', 'Joe Johnston', 'Jake Gyllenhaal, Chris Cooper', '7.8']\n",
      "rating: \n",
      "5\n",
      "Movie details: \n",
      "['590', 'Adventure|Drama|Western', 'Dances with Wolves', '1990', 'Kevin Costner', 'Kevin Costner, Mary McDonnell', '8']\n",
      "rating: \n",
      "5\n",
      "Movie details: \n",
      "['235', 'Comedy|Drama', 'Ed Wood', '1994', 'Tim Burton', 'Johnny Depp, Martin Landau', '7.9']\n",
      "rating: \n",
      "3\n",
      "Movie details: \n",
      "['1385', 'Action', 'Under Siege', '1992', 'Andrew Davis', 'Steven Seagal, Damian Chapa', '6.4']\n",
      "rating: \n",
      "3\n",
      "Movie details: \n",
      "['265', 'Drama|Romance', 'Like Water for Chocolate', '1992', 'Alfonso Arau', 'Marco Leonardi, Lumi Cavazos', '7.2']\n",
      "rating: \n",
      "4\n",
      "Movie details: \n",
      "['647', 'Drama|War', 'Courage Under Fire', '1996', 'Edward Zwick', 'Denzel Washington, Meg Ryan', '6.6']\n",
      "rating: \n",
      "3\n",
      "Movie details: \n",
      "['1597', 'Action|Mystery|Romance|Thriller', 'Conspiracy Theory', '1997', 'Richard Donner', 'Mel Gibson, Julia Roberts', '6.7']\n",
      "rating: \n",
      "3\n",
      "Movie details: \n",
      "['1957', 'Drama', 'Chariots of Fire', '1981', 'Hugh Hudson', 'Nicholas Farrell, Nigel Havers', '7.3']\n",
      "rating: \n",
      "5\n",
      "Movie details: \n",
      "['1259', 'Adventure|Comedy|Drama', 'Stand by Me', '1986', 'Rob Reiner', 'Wil Wheaton, River Phoenix', '8.1']\n",
      "rating: \n",
      "5\n",
      "Movie details: \n",
      "['1293', 'Drama', 'Gandhi', '1982', 'Richard Attenborough', 'Ben Kingsley, Candice Bergen', '8.1']\n",
      "rating: \n",
      "5\n",
      "Movie details: \n",
      "['1372', 'Action|Adventure|Sci-Fi', 'Star Trek VI: The Undiscovered Country', '1991', 'Nicholas Meyer', 'William Shatner, Leonard Nimoy', '7.2']\n",
      "rating: \n",
      "3\n",
      "Movie details: \n",
      "['2126', 'Action|Crime|Mystery|Thriller', 'Snake Eyes', '1998', 'Brian De Palma', 'Nicolas Cage, Gary Sinise', '5.9']\n",
      "rating: \n",
      "3\n",
      "Movie details: \n",
      "['3035', 'Comedy|Drama|War', 'Mister Roberts', '1955', 'John Ford,Mervyn LeRoy', 'Henry Fonda, James Cagney', '7.8']\n",
      "rating: \n",
      "4\n",
      "Movie details: \n",
      "['110', 'Action|Drama|War', 'Braveheart', '1995', 'Mel Gibson', 'James Robinson, Sean Lawlor', '8.4']\n",
      "rating: \n",
      "5\n",
      "Movie details: \n",
      "['1210', 'Action|Adventure|Romance|Sci-Fi|War', 'Star Wars: Episode VI - Return of the Jedi', '1983', 'Richard Marquand', 'Mark Hamill, Harrison Ford', '8.4']\n",
      "rating: \n",
      "4\n",
      "Movie details: \n",
      "['1198', 'Action|Adventure', 'Raiders of the Lost Ark', '1981', 'Steven Spielberg', 'Harrison Ford, Karen Allen', '8.5']\n",
      "rating: \n",
      "4\n",
      "Movie details: \n",
      "['2490', 'Action|Thriller', 'Payback', '1999', 'Brian Helgeland', 'Mel Gibson, Gregg Henry', '7.1']\n",
      "rating: \n",
      "3\n",
      "Movie details: \n",
      "['480', 'Action|Adventure|Sci-Fi', 'Jurassic Park', '1993', 'Steven Spielberg', 'Sam Neill, Laura Dern', '8.1']\n",
      "rating: \n",
      "5\n",
      "Movie details: \n",
      "['3809', 'Comedy', 'What About Bob?', '1991', 'Frank Oz', 'Bill Murray, Richard Dreyfuss', '7']\n",
      "rating: \n",
      "3\n",
      "Movie details: \n",
      "['3334', 'Crime|Drama|Film-Noir|Thriller', 'Key Largo', '1948', 'John Huston', 'Humphrey Bogart, Edward G. Robinson', '7.9']\n",
      "rating: \n",
      "4\n",
      "Movie details: \n",
      "['3451', 'Comedy|Drama', \"Guess Who's Coming to Dinner\", '1967', 'Stanley Kramer', 'Spencer Tracy, Sidney Poitier', '7.8']\n",
      "rating: \n",
      "4\n",
      "Movie details: \n",
      "['1962', 'Drama', 'Driving Miss Daisy', '1989', 'Bruce Beresford', 'Morgan Freeman, Jessica Tandy', '7.4']\n",
      "rating: \n",
      "5\n",
      "Movie details: \n",
      "['165', 'Action|Thriller', 'Die Hard: With a Vengeance', '1995', 'John McTiernan', 'Bruce Willis, Jeremy Irons', '7.6']\n",
      "rating: \n",
      "3\n",
      "Movie details: \n",
      "['2321', 'Comedy', 'Pleasantville', '1998', 'Gary Ross', 'Tobey Maguire, Reese Witherspoon', '7.5']\n",
      "rating: \n",
      "3\n",
      "Movie details: \n",
      "['1246', 'Drama', 'Dead Poets Society', '1989', 'Peter Weir', 'Robin Williams, Robert Sean Leonard', '8']\n",
      "rating: \n",
      "5\n"
     ]
    }
   ],
   "source": [
    "for user in training_data:\n",
    "    if user[0] == 2:\n",
    "        for movies in myList1:\n",
    "            if str(user[3]) == movies[0]:\n",
    "                print \"Movie details: \"\n",
    "                print movies\n",
    "                print \"rating: \"\n",
    "                print user[5]"
   ]
  },
  {
   "cell_type": "code",
   "execution_count": 90,
   "metadata": {
    "collapsed": false,
    "scrolled": true
   },
   "outputs": [
    {
     "name": "stdout",
     "output_type": "stream",
     "text": [
      "Movie details: \n",
      "['434', 'Action|Adventure|Crime', 'Cliffhanger', '1993', 'Renny Harlin', 'Sylvester Stallone, John Lithgow', '6.4']\n",
      "rating: \n",
      "4\n",
      "Movie details: \n",
      "['1537', 'Comedy', 'Shall We Dance?', '1996', 'Masayuki Suo', 'Kji Yakusho, Tamiyo Kusakari', '7.8']\n",
      "rating: \n",
      "4\n",
      "Movie details: \n",
      "['920', 'Drama|Romance|War', 'Gone with the Wind', '1939', 'Victor Fleming,George Cukor', \"Thomas Mitchell, Barbara O'Neil\", '8.2']\n",
      "rating: \n",
      "4\n",
      "Movie details: \n",
      "['982', 'Drama', 'Picnic', '1955', 'Joshua Logan', 'William Holden, Kim Novak', '7.2']\n",
      "rating: \n",
      "4\n",
      "Movie details: \n",
      "['380', 'Action|Adventure|Comedy|Romance', 'True Lies', '1994', 'James Cameron', 'Arnold Schwarzenegger, Jamie Lee Curtis', '7.2']\n",
      "rating: \n",
      "4\n",
      "Movie details: \n",
      "['2728', 'Drama', 'Spartacus', '1960', 'Stanley Kubrick', 'Kirk Douglas, Laurence Olivier', '7.9']\n",
      "rating: \n",
      "4\n",
      "Movie details: \n",
      "['1207', 'Drama', 'To Kill a Mockingbird', '1962', 'Robert Mulligan', 'Gregory Peck, John Megna', '8.4']\n",
      "rating: \n",
      "4\n",
      "Movie details: \n",
      "['1225', 'Drama', 'Amadeus', '1984', 'Milos Forman', 'F. Murray Abraham, Tom Hulce', '8.3']\n",
      "rating: \n",
      "4\n",
      "Movie details: \n",
      "['442', 'Action|Sci-Fi', 'Demolition Man', '1993', 'Marco Brambilla', 'Sylvester Stallone, Wesley Snipes', '6.6']\n",
      "rating: \n",
      "4\n",
      "Movie details: \n",
      "['2353', 'Action|Thriller', 'Enemy of the State', '1998', 'Tony Scott', 'Will Smith, Gene Hackman', '7.3']\n",
      "rating: \n",
      "4\n",
      "Movie details: \n",
      "['2236', 'Drama', 'Simon Birch', '1998', 'Mark Steven Johnson', 'Joseph Mazzello, Ashley Judd', '6.9']\n",
      "rating: \n",
      "4\n",
      "Movie details: \n",
      "['2717', 'Comedy|Horror', 'Ghostbusters II', '1989', 'Ivan Reitman', 'Bill Murray, Dan Aykroyd', '6.5']\n",
      "rating: \n",
      "4\n",
      "Movie details: \n",
      "['1954', 'Action|Drama', 'Rocky', '1976', 'John G. Avildsen', 'Sylvester Stallone, Talia Shire', '8.1']\n",
      "rating: \n",
      "4\n",
      "Movie details: \n",
      "['3699', 'Adventure|Drama|Romance|Sci-Fi', 'Starman', '1984', 'John Carpenter', 'Jeff Bridges, Karen Allen', '7']\n",
      "rating: \n",
      "4\n",
      "Movie details: \n",
      "['3893', 'Comedy|Thriller', 'Nurse Betty', '2000', 'Neil LaBute', 'Morgan Freeman, Rene Zellweger', '6.3']\n",
      "rating: \n",
      "4\n",
      "Movie details: \n",
      "['3030', 'Comedy|Drama|Western', 'Yojimbo', '1961', 'Akira Kurosawa', 'Toshir Mifune, Tatsuya Nakadai', '8.3']\n",
      "rating: \n",
      "4\n",
      "Movie details: \n",
      "['2916', 'Action|Adventure|Sci-Fi|Thriller', 'Total Recall', '1990', 'Paul Verhoeven', 'Arnold Schwarzenegger, Rachel Ticotin', '7.5']\n",
      "rating: \n",
      "4\n",
      "Movie details: \n",
      "['1188', 'Comedy|Romance', 'Strictly Ballroom', '1992', 'Baz Luhrmann', 'Paul Mercurio, Tara Morice', '7.3']\n",
      "rating: \n",
      "4\n",
      "Movie details: \n",
      "['498', 'Drama|Romance', 'Mr. Jones', '1993', 'Mike Figgis', 'Richard Gere, Lena Olin', '5.7']\n",
      "rating: \n",
      "4\n",
      "Movie details: \n",
      "['780', 'Action|Sci-Fi|War', 'Independence Day', '1996', 'Roland Emmerich', 'Will Smith, Bill Pullman', '6.9']\n",
      "rating: \n",
      "4\n",
      "Movie details: \n",
      "['3471', 'Drama|Sci-Fi', 'Close Encounters of the Third Kind', '1977', 'Steven Spielberg', 'Richard Dreyfuss, Franois Truffaut', '7.7']\n",
      "rating: \n",
      "4\n",
      "Movie details: \n",
      "['368', 'Action|Comedy|Western', 'Maverick', '1994', 'Richard Donner', 'Mel Gibson, Jodie Foster', '7']\n",
      "rating: \n",
      "4\n",
      "Movie details: \n",
      "['2312', 'Drama', 'Children of a Lesser God', '1986', 'Randa Haines', 'William Hurt, Marlee Matlin', '7.2']\n",
      "rating: \n",
      "4\n"
     ]
    }
   ],
   "source": [
    "for user in predicted_data:\n",
    "    if user[0] == 2:\n",
    "        for movies in myList1:\n",
    "            if str(user[3]) == movies[0]:\n",
    "                print \"Movie details: \"\n",
    "                print movies\n",
    "                print \"rating: \"\n",
    "                print user[5]"
   ]
  },
  {
   "cell_type": "markdown",
   "metadata": {},
   "source": [
    "#####Section 3 - KNN - Comparative analysis with logistic regression. We applied knn on clusters formed with the movies dataset to predict the user ratings. Since the MSE obtained from Knn was significantly higher than Logistic regression, we used LR for predicting movie ratings. The code below shows our experiment with knn on 3 clusters formed using movies dataset and entire ratings dataset. we split the ratings dataset nased on movie clusters and applied knn. Something that stood out here was that mse was higher when we applied knn on individual clusters as compared to the entire ratings datset. \n",
    "1. Create a dataframe for each cluster and analyze the number of unique movie id’s and user id’s. This will help us in setting the dimensions for creating a similarity matrix."
   ]
  },
  {
   "cell_type": "code",
   "execution_count": 7,
   "metadata": {
    "collapsed": false
   },
   "outputs": [
    {
     "data": {
      "text/html": [
       "<div>\n",
       "<table border=\"1\" class=\"dataframe\">\n",
       "  <thead>\n",
       "    <tr style=\"text-align: right;\">\n",
       "      <th></th>\n",
       "      <th>UserID</th>\n",
       "      <th>MovieID</th>\n",
       "      <th>Rating</th>\n",
       "      <th>label</th>\n",
       "    </tr>\n",
       "  </thead>\n",
       "  <tbody>\n",
       "    <tr>\n",
       "      <th>0</th>\n",
       "      <td>1</td>\n",
       "      <td>661</td>\n",
       "      <td>3</td>\n",
       "      <td>0</td>\n",
       "    </tr>\n",
       "    <tr>\n",
       "      <th>1</th>\n",
       "      <td>1</td>\n",
       "      <td>914</td>\n",
       "      <td>3</td>\n",
       "      <td>0</td>\n",
       "    </tr>\n",
       "    <tr>\n",
       "      <th>2</th>\n",
       "      <td>1</td>\n",
       "      <td>594</td>\n",
       "      <td>4</td>\n",
       "      <td>0</td>\n",
       "    </tr>\n",
       "    <tr>\n",
       "      <th>3</th>\n",
       "      <td>1</td>\n",
       "      <td>938</td>\n",
       "      <td>4</td>\n",
       "      <td>0</td>\n",
       "    </tr>\n",
       "    <tr>\n",
       "      <th>4</th>\n",
       "      <td>1</td>\n",
       "      <td>2687</td>\n",
       "      <td>3</td>\n",
       "      <td>0</td>\n",
       "    </tr>\n",
       "  </tbody>\n",
       "</table>\n",
       "</div>"
      ],
      "text/plain": [
       "   UserID  MovieID  Rating  label\n",
       "0       1      661       3      0\n",
       "1       1      914       3      0\n",
       "2       1      594       4      0\n",
       "3       1      938       4      0\n",
       "4       1     2687       3      0"
      ]
     },
     "execution_count": 7,
     "metadata": {},
     "output_type": "execute_result"
    }
   ],
   "source": [
    "import statsmodels.api as sm \n",
    "from sklearn.cluster import KMeans\n",
    "from sklearn.neighbors import KNeighborsRegressor\n",
    "import random\n",
    "from numpy.random import permutation\n",
    "import math\n",
    "from sklearn import metrics\n",
    "import numpy as np\n",
    "df_first = pd.read_csv(\"/Users/sushma/Desktop/DM_Git/Recommender_System/FirstRatingsMatrix.csv\", header=0)\n",
    "df_first.head()"
   ]
  },
  {
   "cell_type": "markdown",
   "metadata": {},
   "source": [
    "#####Create a user is and movie id dictionary to map the actal id's into consecutive integers'"
   ]
  },
  {
   "cell_type": "code",
   "execution_count": 4,
   "metadata": {
    "collapsed": true
   },
   "outputs": [],
   "source": [
    "uniq_userid_clust1 = df_first.UserID.unique()\n",
    "sorted_uniq_userid_clust1 = sorted(uniq_userid_clust1)\n",
    "uindex_clust1 = 0\n",
    "user_index_clust1 = {}\n",
    "for n in sorted_uniq_userid_clust1:\n",
    "    user_index_clust1[n] = uindex_clust1\n",
    "    uindex_clust1 += 1\n",
    "    \n",
    "uniq_movieid_clust1 = df_first.MovieID.unique()\n",
    "sorted_uniq_movieid_clust1 = sorted(uniq_movieid_clust1)\n",
    "mindex_clust1 = 0\n",
    "movie_index_clust1 = {}\n",
    "for n in sorted_uniq_movieid_clust1:\n",
    "    movie_index_clust1[n] = mindex_clust1\n",
    "    mindex_clust1 += 1"
   ]
  },
  {
   "cell_type": "code",
   "execution_count": 5,
   "metadata": {
    "collapsed": false
   },
   "outputs": [
    {
     "name": "stdout",
     "output_type": "stream",
     "text": [
      "n users: 6037\n",
      "n movies: 727\n"
     ]
    }
   ],
   "source": [
    "n_users_clust1 = df_first.UserID.unique().shape[0]\n",
    "print(\"n users: %s\" % n_users_clust1)\n",
    "n_movies_clust1 = df_first.MovieID.unique().shape[0]\n",
    "print(\"n movies: %s\" % n_movies_clust1)"
   ]
  },
  {
   "cell_type": "markdown",
   "metadata": {},
   "source": [
    "#####Create a user-movie matrix using the number of unique user id’s as rows and number of unique movie id’s as columns."
   ]
  },
  {
   "cell_type": "code",
   "execution_count": 8,
   "metadata": {
    "collapsed": false
   },
   "outputs": [
    {
     "data": {
      "text/plain": [
       "array([[ 0.,  0.,  0., ...,  0.,  0.,  0.],\n",
       "       [ 0.,  0.,  0., ...,  0.,  0.,  0.],\n",
       "       [ 0.,  0.,  0., ...,  0.,  0.,  0.],\n",
       "       ..., \n",
       "       [ 0.,  0.,  0., ...,  0.,  0.,  0.],\n",
       "       [ 0.,  0.,  0., ...,  0.,  0.,  0.],\n",
       "       [ 0.,  0.,  0., ...,  0.,  0.,  0.]])"
      ]
     },
     "execution_count": 8,
     "metadata": {},
     "output_type": "execute_result"
    }
   ],
   "source": [
    "first_clust_ratings = np.zeros((n_users_clust1,n_movies_clust1))\n",
    "for row in df_first.itertuples():\n",
    "    # row[1] will the user_id; row[2] the \n",
    "    # rating (see also my note below).\n",
    "    # the -1 2s to move to 0 indexing.\n",
    "    first_clust_ratings[user_index_clust1[row[1]]-1, movie_index_clust1[row[2]]-1] = row[3]\n",
    "first_clust_ratings"
   ]
  },
  {
   "cell_type": "code",
   "execution_count": 9,
   "metadata": {
    "collapsed": false
   },
   "outputs": [
    {
     "name": "stdout",
     "output_type": "stream",
     "text": [
      "sparsity: 5.18%\n"
     ]
    }
   ],
   "source": [
    "sparsity = float(len(first_clust_ratings.nonzero()[0]))\n",
    "sparsity /= (first_clust_ratings.shape[0] * first_clust_ratings.shape[1])\n",
    "sparsity *= 100\n",
    "print('sparsity: {:4.2f}%'.format(sparsity))"
   ]
  },
  {
   "cell_type": "markdown",
   "metadata": {},
   "source": [
    "#####Create a similarity matrix after splitting the data into testing and training sets. Here we used collaborative filtering approach and considered both user based and movie based predictions"
   ]
  },
  {
   "cell_type": "code",
   "execution_count": 10,
   "metadata": {
    "collapsed": true
   },
   "outputs": [],
   "source": [
    "def train_test_split(ratings):\n",
    "    test = np.zeros(ratings.shape)\n",
    "    train = ratings.copy()\n",
    "    for user in range(ratings.shape[0]):\n",
    "        if len(ratings[user, :].nonzero()[0]) > 5:\n",
    "            # sample 6 ratings from each user to use\n",
    "            # as 'test' data. If the users have less than 5 movies rated, do not include it for predictions\n",
    "            test_ratings = np.random.choice(ratings[user, :].nonzero()[0], \n",
    "                                                size=6, \n",
    "                                                replace=False)\n",
    "            # effectively remove these from the training\n",
    "            # set\n",
    "            train[user, test_ratings] = 0.\n",
    "            test[user, test_ratings] = ratings[user, test_ratings]\n",
    "           \n",
    "    # make sure that test and training are truly disjoint\n",
    "    assert(np.all((train * test) == 0)) \n",
    "    \n",
    "    return train, test"
   ]
  },
  {
   "cell_type": "code",
   "execution_count": 11,
   "metadata": {
    "collapsed": true
   },
   "outputs": [],
   "source": [
    "train, test = train_test_split(first_clust_ratings)"
   ]
  },
  {
   "cell_type": "code",
   "execution_count": 12,
   "metadata": {
    "collapsed": true
   },
   "outputs": [],
   "source": [
    "def similarity(ratings, kind='user', epsilon=1e-9):\n",
    "    # epsilon -> small number for handling dived-by-zero errors\n",
    "    if kind == 'user':\n",
    "        sim = ratings.dot(ratings.T) + epsilon\n",
    "        print(sim)\n",
    "    elif kind == 'item':\n",
    "        # we need only flip the dimensions around \n",
    "        # to do item based similarity!\n",
    "        sim = ratings.T.dot(ratings) + epsilon\n",
    "    norms = np.array([np.sqrt(np.diagonal(sim))])\n",
    "    return (sim / (norms * norms.T))"
   ]
  },
  {
   "cell_type": "code",
   "execution_count": 13,
   "metadata": {
    "collapsed": false
   },
   "outputs": [
    {
     "name": "stdout",
     "output_type": "stream",
     "text": [
      "[[  3.18000000e+02   5.60000000e+01   2.00000000e+01 ...,   2.00000000e+01\n",
      "    4.10000000e+01   1.00000000e-09]\n",
      " [  5.60000000e+01   8.90000000e+01   2.50000000e+01 ...,   2.00000000e+01\n",
      "    3.50000000e+01   1.00000000e-09]\n",
      " [  2.00000000e+01   2.50000000e+01   2.50000000e+01 ...,   1.00000000e-09\n",
      "    1.50000000e+01   1.00000000e-09]\n",
      " ..., \n",
      " [  2.00000000e+01   2.00000000e+01   1.00000000e-09 ...,   3.69000000e+02\n",
      "    8.20000000e+01   1.60000000e+01]\n",
      " [  4.10000000e+01   3.50000000e+01   1.50000000e+01 ...,   8.20000000e+01\n",
      "    6.56000000e+02   1.00000000e-09]\n",
      " [  1.00000000e-09   1.00000000e-09   1.00000000e-09 ...,   1.60000000e+01\n",
      "    1.00000000e-09   7.50000000e+01]]\n"
     ]
    }
   ],
   "source": [
    "user_similarity_clust1 = similarity(train, kind='user')\n",
    "item_similarity_clust1 = similarity(train, kind='item')"
   ]
  },
  {
   "cell_type": "code",
   "execution_count": 14,
   "metadata": {
    "collapsed": false,
    "scrolled": true
   },
   "outputs": [
    {
     "data": {
      "text/plain": [
       "array([[  3.18000000e+02,   5.60000000e+01,   2.00000000e+01, ...,\n",
       "          2.00000000e+01,   5.70000000e+01,   1.00000000e-09],\n",
       "       [  9.30000000e+01,   8.90000000e+01,   2.50000000e+01, ...,\n",
       "          2.00000000e+01,   6.60000000e+01,   1.00000000e-09],\n",
       "       [  5.20000000e+01,   5.30000000e+01,   2.50000000e+01, ...,\n",
       "          1.50000000e+01,   5.30000000e+01,   1.00000000e-09],\n",
       "       ..., \n",
       "       [  3.60000000e+01,   2.00000000e+01,   1.00000000e-09, ...,\n",
       "          3.69000000e+02,   1.02000000e+02,   2.80000000e+01],\n",
       "       [  4.10000000e+01,   3.50000000e+01,   1.50000000e+01, ...,\n",
       "          8.20000000e+01,   6.56000000e+02,   1.00000000e-09],\n",
       "       [  1.00000000e-09,   1.00000000e-09,   1.00000000e-09, ...,\n",
       "          1.60000000e+01,   1.60000000e+01,   7.50000000e+01]])"
      ]
     },
     "execution_count": 14,
     "metadata": {},
     "output_type": "execute_result"
    }
   ],
   "source": [
    "sim = first_clust_ratings.dot(train.T) + 1e-9\n",
    "sim"
   ]
  },
  {
   "cell_type": "markdown",
   "metadata": {},
   "source": [
    "Compute the mean squared error for both user based and item based predictions\n",
    "Consider only top k neighbors and re-compute the mean squared error and check if it improves the efficiency of the model."
   ]
  },
  {
   "cell_type": "code",
   "execution_count": 15,
   "metadata": {
    "collapsed": true
   },
   "outputs": [],
   "source": [
    "def predict(ratings, similarity, kind='user'):\n",
    "    if kind == 'user':\n",
    "        return similarity.dot(ratings) / np.array([np.abs(similarity).sum(axis=1)]).T\n",
    "    elif kind == 'item':\n",
    "        return ratings.dot(similarity) / np.array([np.abs(similarity).sum(axis=1)])"
   ]
  },
  {
   "cell_type": "code",
   "execution_count": 16,
   "metadata": {
    "collapsed": true
   },
   "outputs": [],
   "source": [
    "from sklearn.metrics import mean_squared_error\n",
    "def get_mse(pred, actual):\n",
    "    # Ignore nonzero terms.\n",
    "    pred = pred[actual.nonzero()].flatten()\n",
    "    actual = actual[actual.nonzero()].flatten()\n",
    "    return mean_squared_error(pred, actual)"
   ]
  },
  {
   "cell_type": "code",
   "execution_count": 17,
   "metadata": {
    "collapsed": false
   },
   "outputs": [
    {
     "name": "stdout",
     "output_type": "stream",
     "text": [
      "User-based CF MSE: 9.51309268411\n",
      "Movie-based CF MSE: 12.4780969769\n"
     ]
    }
   ],
   "source": [
    "item_prediction_clust1 = predict(train, item_similarity_clust1, kind='item')\n",
    "user_prediction_clust1 = predict(train, user_similarity_clust1, kind='user')\n",
    "print('User-based CF MSE: ' + str(get_mse(user_prediction_clust1, test)))\n",
    "print('Movie-based CF MSE: ' + str(get_mse(item_prediction_clust1, test)))"
   ]
  },
  {
   "cell_type": "code",
   "execution_count": 18,
   "metadata": {
    "collapsed": true
   },
   "outputs": [],
   "source": [
    "def predict_topk(ratings, similarity, kind='user', k=40):\n",
    "    pred = np.zeros(ratings.shape)\n",
    "    \n",
    "    for i in range(ratings.shape[0]):\n",
    "        # note! the [::-1] craziness is just a numpy trick to \n",
    "        # reverse the array. we're doing this because otherwise\n",
    "        # it is sorted in the direction opposite of what we want\n",
    "        # -- lowest to highest, so least to most similar. \n",
    "        # we flip this around then take the top k.\n",
    "        top_k_users =  np.argsort(similarity[:,i])[::-1][:k] #[np.argsort(similarity[:,i])[:-k-1:-1]]\n",
    "        \n",
    "        for j in range(ratings.shape[1]):\n",
    "            pred[i, j] = similarity[i, :][top_k_users].dot(ratings[:, j][top_k_users]) \n",
    "            pred[i, j] /= np.sum(np.abs(similarity[i, :][top_k_users]))\n",
    "\n",
    "    return pred"
   ]
  },
  {
   "cell_type": "code",
   "execution_count": 19,
   "metadata": {
    "collapsed": false
   },
   "outputs": [
    {
     "name": "stdout",
     "output_type": "stream",
     "text": [
      "Top-k User-based CF MSE: 9.71655282666\n"
     ]
    }
   ],
   "source": [
    "pred = predict_topk(train, user_similarity_clust1, k=40)\n",
    "print('Top-k User-based CF MSE: ' + str(get_mse(pred, test)))"
   ]
  },
  {
   "cell_type": "markdown",
   "metadata": {},
   "source": [
    "#####Second cluster - knn - Repeat the steps for first cluster"
   ]
  },
  {
   "cell_type": "code",
   "execution_count": 20,
   "metadata": {
    "collapsed": false
   },
   "outputs": [
    {
     "data": {
      "text/html": [
       "<div>\n",
       "<table border=\"1\" class=\"dataframe\">\n",
       "  <thead>\n",
       "    <tr style=\"text-align: right;\">\n",
       "      <th></th>\n",
       "      <th>UserID</th>\n",
       "      <th>MovieID</th>\n",
       "      <th>Rating</th>\n",
       "      <th>label</th>\n",
       "    </tr>\n",
       "  </thead>\n",
       "  <tbody>\n",
       "    <tr>\n",
       "      <th>0</th>\n",
       "      <td>1</td>\n",
       "      <td>2918</td>\n",
       "      <td>4</td>\n",
       "      <td>1</td>\n",
       "    </tr>\n",
       "    <tr>\n",
       "      <th>1</th>\n",
       "      <td>1</td>\n",
       "      <td>2321</td>\n",
       "      <td>3</td>\n",
       "      <td>1</td>\n",
       "    </tr>\n",
       "    <tr>\n",
       "      <th>2</th>\n",
       "      <td>1</td>\n",
       "      <td>1270</td>\n",
       "      <td>5</td>\n",
       "      <td>1</td>\n",
       "    </tr>\n",
       "    <tr>\n",
       "      <th>3</th>\n",
       "      <td>1</td>\n",
       "      <td>1566</td>\n",
       "      <td>4</td>\n",
       "      <td>1</td>\n",
       "    </tr>\n",
       "    <tr>\n",
       "      <th>4</th>\n",
       "      <td>1</td>\n",
       "      <td>588</td>\n",
       "      <td>4</td>\n",
       "      <td>1</td>\n",
       "    </tr>\n",
       "  </tbody>\n",
       "</table>\n",
       "</div>"
      ],
      "text/plain": [
       "   UserID  MovieID  Rating  label\n",
       "0       1     2918       4      1\n",
       "1       1     2321       3      1\n",
       "2       1     1270       5      1\n",
       "3       1     1566       4      1\n",
       "4       1      588       4      1"
      ]
     },
     "execution_count": 20,
     "metadata": {},
     "output_type": "execute_result"
    }
   ],
   "source": [
    "df_second = pd.read_csv(\"/Users/sushma/Desktop/DM_Git/Recommender_System/SecondRatingsMatrix.csv\", header=0)\n",
    "df_second.head()"
   ]
  },
  {
   "cell_type": "code",
   "execution_count": 21,
   "metadata": {
    "collapsed": true
   },
   "outputs": [],
   "source": [
    "uniq_userid_clust2 = df_second.UserID.unique()\n",
    "sorted_uniq_userid_clust2 = sorted(uniq_userid_clust2)\n",
    "uindex_clust2 = 0\n",
    "user_index_clust2 = {}\n",
    "for n in sorted_uniq_userid_clust2:\n",
    "    user_index_clust2[n] = uindex_clust2\n",
    "    uindex_clust2 += 1\n",
    "    \n",
    "uniq_movieid_clust2 = df_second.MovieID.unique()\n",
    "sorted_uniq_movieid_clust2 = sorted(uniq_movieid_clust2)\n",
    "mindex_clust2 = 0\n",
    "movie_index_clust2 = {}\n",
    "for n in sorted_uniq_movieid_clust2:\n",
    "    movie_index_clust2[n] = mindex_clust2\n",
    "    mindex_clust2 += 1"
   ]
  },
  {
   "cell_type": "code",
   "execution_count": 22,
   "metadata": {
    "collapsed": false
   },
   "outputs": [
    {
     "name": "stdout",
     "output_type": "stream",
     "text": [
      "n users: 5963\n",
      "n movies: 558\n"
     ]
    }
   ],
   "source": [
    "n_users_clust2 = df_second.UserID.unique().shape[0]\n",
    "print(\"n users: %s\" % n_users_clust2)\n",
    "n_movies_clust2 = df_second.MovieID.unique().shape[0]\n",
    "print(\"n movies: %s\" % n_movies_clust2)"
   ]
  },
  {
   "cell_type": "code",
   "execution_count": 23,
   "metadata": {
    "collapsed": false
   },
   "outputs": [
    {
     "data": {
      "text/plain": [
       "array([[ 0.,  0.,  0., ...,  0.,  0.,  0.],\n",
       "       [ 0.,  0.,  0., ...,  0.,  0.,  0.],\n",
       "       [ 0.,  0.,  0., ...,  0.,  0.,  0.],\n",
       "       ..., \n",
       "       [ 0.,  0.,  0., ...,  0.,  0.,  0.],\n",
       "       [ 0.,  0.,  0., ...,  0.,  0.,  3.],\n",
       "       [ 0.,  0.,  0., ...,  0.,  0.,  5.]])"
      ]
     },
     "execution_count": 23,
     "metadata": {},
     "output_type": "execute_result"
    }
   ],
   "source": [
    "second_clust_ratings = np.zeros((n_users_clust2,n_movies_clust2))\n",
    "for row in df_second.itertuples():\n",
    "    # row[1] will the user_id; row[2] the \n",
    "    # rating (see also my note below).\n",
    "    # the -1 2s to move to 0 indexing.\n",
    "    second_clust_ratings[user_index_clust2[row[1]]-1, movie_index_clust2[row[2]]-1] = row[3]\n",
    "second_clust_ratings"
   ]
  },
  {
   "cell_type": "code",
   "execution_count": 24,
   "metadata": {
    "collapsed": false
   },
   "outputs": [
    {
     "name": "stdout",
     "output_type": "stream",
     "text": [
      "sparsity: 5.60%\n"
     ]
    }
   ],
   "source": [
    "sparsity = float(len(second_clust_ratings.nonzero()[0]))\n",
    "sparsity /= (second_clust_ratings.shape[0] * second_clust_ratings.shape[1])\n",
    "sparsity *= 100\n",
    "print('sparsity: {:4.2f}%'.format(sparsity))"
   ]
  },
  {
   "cell_type": "code",
   "execution_count": 25,
   "metadata": {
    "collapsed": true
   },
   "outputs": [],
   "source": [
    "train, test = train_test_split(second_clust_ratings)"
   ]
  },
  {
   "cell_type": "code",
   "execution_count": 26,
   "metadata": {
    "collapsed": false
   },
   "outputs": [
    {
     "name": "stdout",
     "output_type": "stream",
     "text": [
      "[[  8.50000000e+01   1.00000000e-09   5.00000000e+00 ...,   1.60000000e+01\n",
      "    1.90000000e+01   1.00000000e-09]\n",
      " [  1.00000000e-09   1.26000000e+02   2.70000000e+01 ...,   2.00000000e+01\n",
      "    6.50000000e+01   1.00000000e-09]\n",
      " [  5.00000000e+00   2.70000000e+01   2.99000000e+02 ...,   1.00000000e-09\n",
      "    9.50000000e+01   1.00000000e-09]\n",
      " ..., \n",
      " [  1.60000000e+01   2.00000000e+01   1.00000000e-09 ...,   3.50000000e+02\n",
      "    8.10000000e+01   1.00000000e-09]\n",
      " [  1.90000000e+01   6.50000000e+01   9.50000000e+01 ...,   8.10000000e+01\n",
      "    4.81000000e+02   1.00000000e-09]\n",
      " [  1.00000000e-09   1.00000000e-09   1.00000000e-09 ...,   1.00000000e-09\n",
      "    1.00000000e-09   1.60000000e+01]]\n"
     ]
    }
   ],
   "source": [
    "user_similarity_clust2 = similarity(train, kind='user')\n",
    "item_similarity_clust2 = similarity(train, kind='item')"
   ]
  },
  {
   "cell_type": "code",
   "execution_count": 27,
   "metadata": {
    "collapsed": false
   },
   "outputs": [
    {
     "data": {
      "text/plain": [
       "array([[  8.50000000e+01,   1.00000000e-09,   1.40000000e+01, ...,\n",
       "          4.50000000e+01,   4.30000000e+01,   1.00000000e-09],\n",
       "       [  1.00000000e-09,   1.26000000e+02,   2.70000000e+01, ...,\n",
       "          4.60000000e+01,   8.30000000e+01,   1.00000000e-09],\n",
       "       [  8.00000000e+00,   2.70000000e+01,   2.99000000e+02, ...,\n",
       "          1.00000000e-09,   9.60000000e+01,   1.00000000e-09],\n",
       "       ..., \n",
       "       [  1.60000000e+01,   2.00000000e+01,   1.00000000e-09, ...,\n",
       "          3.50000000e+02,   1.15000000e+02,   1.00000000e-09],\n",
       "       [  1.90000000e+01,   6.50000000e+01,   9.50000000e+01, ...,\n",
       "          8.10000000e+01,   4.81000000e+02,   1.00000000e-09],\n",
       "       [  9.00000000e+00,   1.50000000e+01,   1.00000000e-09, ...,\n",
       "          3.60000000e+01,   1.50000000e+01,   1.60000000e+01]])"
      ]
     },
     "execution_count": 27,
     "metadata": {},
     "output_type": "execute_result"
    }
   ],
   "source": [
    "sim = second_clust_ratings.dot(train.T) + 1e-9\n",
    "sim"
   ]
  },
  {
   "cell_type": "code",
   "execution_count": 28,
   "metadata": {
    "collapsed": false
   },
   "outputs": [
    {
     "name": "stdout",
     "output_type": "stream",
     "text": [
      "User-based CF MSE: 9.09233247274\n",
      "Movie-based CF MSE: 12.0458075673\n"
     ]
    }
   ],
   "source": [
    "item_prediction_clust2 = predict(train, item_similarity_clust2, kind='item')\n",
    "user_prediction_clust2 = predict(train, user_similarity_clust2, kind='user')\n",
    "print('User-based CF MSE: ' + str(get_mse(user_prediction_clust2, test)))\n",
    "print('Movie-based CF MSE: ' + str(get_mse(item_prediction_clust2, test)))"
   ]
  },
  {
   "cell_type": "code",
   "execution_count": 29,
   "metadata": {
    "collapsed": false
   },
   "outputs": [
    {
     "name": "stdout",
     "output_type": "stream",
     "text": [
      "Top-k User-based CF MSE: 9.56368844384\n"
     ]
    }
   ],
   "source": [
    "pred_clust2 = predict_topk(train, user_similarity_clust2, k=40)\n",
    "print('Top-k User-based CF MSE: ' + str(get_mse(pred_clust2, test)))"
   ]
  },
  {
   "cell_type": "markdown",
   "metadata": {},
   "source": [
    "#####Third cluster - knn"
   ]
  },
  {
   "cell_type": "code",
   "execution_count": 30,
   "metadata": {
    "collapsed": false
   },
   "outputs": [
    {
     "data": {
      "text/html": [
       "<div>\n",
       "<table border=\"1\" class=\"dataframe\">\n",
       "  <thead>\n",
       "    <tr style=\"text-align: right;\">\n",
       "      <th></th>\n",
       "      <th>UserID</th>\n",
       "      <th>MovieID</th>\n",
       "      <th>Rating</th>\n",
       "      <th>label</th>\n",
       "    </tr>\n",
       "  </thead>\n",
       "  <tbody>\n",
       "    <tr>\n",
       "      <th>0</th>\n",
       "      <td>1</td>\n",
       "      <td>3408</td>\n",
       "      <td>4</td>\n",
       "      <td>2</td>\n",
       "    </tr>\n",
       "    <tr>\n",
       "      <th>1</th>\n",
       "      <td>1</td>\n",
       "      <td>1287</td>\n",
       "      <td>5</td>\n",
       "      <td>2</td>\n",
       "    </tr>\n",
       "    <tr>\n",
       "      <th>2</th>\n",
       "      <td>1</td>\n",
       "      <td>527</td>\n",
       "      <td>5</td>\n",
       "      <td>2</td>\n",
       "    </tr>\n",
       "    <tr>\n",
       "      <th>3</th>\n",
       "      <td>1</td>\n",
       "      <td>1097</td>\n",
       "      <td>4</td>\n",
       "      <td>2</td>\n",
       "    </tr>\n",
       "    <tr>\n",
       "      <th>4</th>\n",
       "      <td>1</td>\n",
       "      <td>1545</td>\n",
       "      <td>4</td>\n",
       "      <td>2</td>\n",
       "    </tr>\n",
       "  </tbody>\n",
       "</table>\n",
       "</div>"
      ],
      "text/plain": [
       "   UserID  MovieID  Rating  label\n",
       "0       1     3408       4      2\n",
       "1       1     1287       5      2\n",
       "2       1      527       5      2\n",
       "3       1     1097       4      2\n",
       "4       1     1545       4      2"
      ]
     },
     "execution_count": 30,
     "metadata": {},
     "output_type": "execute_result"
    }
   ],
   "source": [
    "df_third = pd.read_csv(\"/Users/sushma/Desktop/DM_Git/Recommender_System/ThirdRatingsMatrix.csv\", header=0)\n",
    "df_third.head()"
   ]
  },
  {
   "cell_type": "code",
   "execution_count": 31,
   "metadata": {
    "collapsed": true
   },
   "outputs": [],
   "source": [
    "uniq_userid_clust3 = df_third.UserID.unique()\n",
    "sorted_uniq_userid_clust3 = sorted(uniq_userid_clust3)\n",
    "uindex_clust3 = 0\n",
    "user_index_clust3 = {}\n",
    "for n in sorted_uniq_userid_clust3:\n",
    "    user_index_clust3[n] = uindex_clust3\n",
    "    uindex_clust3 += 1\n",
    "    \n",
    "uniq_movieid_clust3 = df_third.MovieID.unique()\n",
    "sorted_uniq_movieid_clust3 = sorted(uniq_movieid_clust3)\n",
    "mindex_clust3 = 0\n",
    "movie_index_clust3 = {}\n",
    "for n in sorted_uniq_movieid_clust3:\n",
    "    movie_index_clust3[n] = mindex_clust3\n",
    "    mindex_clust3 += 1"
   ]
  },
  {
   "cell_type": "code",
   "execution_count": 32,
   "metadata": {
    "collapsed": false
   },
   "outputs": [
    {
     "name": "stdout",
     "output_type": "stream",
     "text": [
      "n users: 5981\n",
      "n movies: 685\n"
     ]
    }
   ],
   "source": [
    "n_users_clust3 = df_third.UserID.unique().shape[0]\n",
    "print(\"n users: %s\" % n_users_clust3)\n",
    "n_movies_clust3 = df_third.MovieID.unique().shape[0]\n",
    "print(\"n movies: %s\" % n_movies_clust3)"
   ]
  },
  {
   "cell_type": "code",
   "execution_count": 33,
   "metadata": {
    "collapsed": false
   },
   "outputs": [
    {
     "data": {
      "text/plain": [
       "array([[ 0.,  0.,  0., ...,  0.,  0.,  0.],\n",
       "       [ 0.,  0.,  0., ...,  0.,  0.,  0.],\n",
       "       [ 0.,  0.,  0., ...,  0.,  0.,  0.],\n",
       "       ..., \n",
       "       [ 0.,  0.,  0., ...,  0.,  0.,  0.],\n",
       "       [ 0.,  3.,  0., ...,  0.,  0.,  0.],\n",
       "       [ 0.,  0.,  0., ...,  0.,  0.,  0.]])"
      ]
     },
     "execution_count": 33,
     "metadata": {},
     "output_type": "execute_result"
    }
   ],
   "source": [
    "third_clust_ratings = np.zeros((n_users_clust3,n_movies_clust3))\n",
    "for row in df_third.itertuples():\n",
    "    # row[1] will the user_id; row[2] the \n",
    "    # rating (see also my note below).\n",
    "    # the -1 2s to move to 0 indexing.\n",
    "    third_clust_ratings[user_index_clust3[row[1]]-1, movie_index_clust3[row[2]]-1] = row[3]\n",
    "third_clust_ratings"
   ]
  },
  {
   "cell_type": "code",
   "execution_count": 34,
   "metadata": {
    "collapsed": false
   },
   "outputs": [
    {
     "name": "stdout",
     "output_type": "stream",
     "text": [
      "sparsity: 4.06%\n"
     ]
    }
   ],
   "source": [
    "sparsity = float(len(third_clust_ratings.nonzero()[0]))\n",
    "sparsity /= (third_clust_ratings.shape[0] * third_clust_ratings.shape[1])\n",
    "sparsity *= 100\n",
    "print('sparsity: {:4.2f}%'.format(sparsity))"
   ]
  },
  {
   "cell_type": "code",
   "execution_count": 35,
   "metadata": {
    "collapsed": true
   },
   "outputs": [],
   "source": [
    "train, test = train_test_split(third_clust_ratings)"
   ]
  },
  {
   "cell_type": "code",
   "execution_count": 36,
   "metadata": {
    "collapsed": false
   },
   "outputs": [
    {
     "name": "stdout",
     "output_type": "stream",
     "text": [
      "[[  5.02000000e+02   4.00000000e+01   5.50000000e+01 ...,   2.00000000e+01\n",
      "    2.43000000e+02   1.00000000e-09]\n",
      " [  4.00000000e+01   6.40000000e+01   8.00000000e+00 ...,   1.00000000e-09\n",
      "    4.40000000e+01   2.00000000e+01]\n",
      " [  5.50000000e+01   8.00000000e+00   7.00000000e+01 ...,   1.00000000e-09\n",
      "    4.60000000e+01   1.60000000e+01]\n",
      " ..., \n",
      " [  2.00000000e+01   1.00000000e-09   1.00000000e-09 ...,   6.40000000e+01\n",
      "    4.00000000e+01   1.00000000e-09]\n",
      " [  2.43000000e+02   4.40000000e+01   4.60000000e+01 ...,   4.00000000e+01\n",
      "    1.28200000e+03   3.60000000e+01]\n",
      " [  1.00000000e-09   2.00000000e+01   1.60000000e+01 ...,   1.00000000e-09\n",
      "    3.60000000e+01   8.90000000e+01]]\n"
     ]
    }
   ],
   "source": [
    "user_similarity_clust3 = similarity(train, kind='user')\n",
    "item_similarity_clust3 = similarity(train, kind='item')"
   ]
  },
  {
   "cell_type": "code",
   "execution_count": 37,
   "metadata": {
    "collapsed": false
   },
   "outputs": [
    {
     "data": {
      "text/plain": [
       "array([[  5.02000000e+02,   4.00000000e+01,   5.50000000e+01, ...,\n",
       "          2.00000000e+01,   2.97000000e+02,   1.00000000e-09],\n",
       "       [  4.00000000e+01,   6.40000000e+01,   8.00000000e+00, ...,\n",
       "          1.00000000e-09,   4.40000000e+01,   2.00000000e+01],\n",
       "       [  5.50000000e+01,   8.00000000e+00,   7.00000000e+01, ...,\n",
       "          1.00000000e-09,   4.60000000e+01,   1.60000000e+01],\n",
       "       ..., \n",
       "       [  4.00000000e+01,   1.00000000e-09,   1.60000000e+01, ...,\n",
       "          6.40000000e+01,   7.60000000e+01,   1.60000000e+01],\n",
       "       [  2.43000000e+02,   4.40000000e+01,   4.60000000e+01, ...,\n",
       "          4.00000000e+01,   1.28200000e+03,   3.60000000e+01],\n",
       "       [  5.60000000e+01,   2.00000000e+01,   4.10000000e+01, ...,\n",
       "          1.00000000e-09,   1.10000000e+02,   8.90000000e+01]])"
      ]
     },
     "execution_count": 37,
     "metadata": {},
     "output_type": "execute_result"
    }
   ],
   "source": [
    "sim = third_clust_ratings.dot(train.T) + 1e-9\n",
    "sim"
   ]
  },
  {
   "cell_type": "code",
   "execution_count": 38,
   "metadata": {
    "collapsed": false
   },
   "outputs": [
    {
     "name": "stdout",
     "output_type": "stream",
     "text": [
      "User-based CF MSE: 10.7402331801\n",
      "Movie-based CF MSE: 14.0164353457\n"
     ]
    }
   ],
   "source": [
    "item_prediction_clust3 = predict(train, item_similarity_clust3, kind='item')\n",
    "user_prediction_clust3 = predict(train, user_similarity_clust3, kind='user')\n",
    "print('User-based CF MSE: ' + str(get_mse(user_prediction_clust3, test)))\n",
    "print('Movie-based CF MSE: ' + str(get_mse(item_prediction_clust3, test)))"
   ]
  },
  {
   "cell_type": "code",
   "execution_count": 39,
   "metadata": {
    "collapsed": false
   },
   "outputs": [
    {
     "name": "stdout",
     "output_type": "stream",
     "text": [
      "Top-k User-based CF MSE: 11.6088414228\n"
     ]
    }
   ],
   "source": [
    "pred_clust3 = predict_topk(train, user_similarity_clust3, k=40)\n",
    "print('Top-k User-based CF MSE: ' + str(get_mse(pred_clust3, test)))"
   ]
  },
  {
   "cell_type": "markdown",
   "metadata": {},
   "source": [
    "#####Entire Ratings dataset"
   ]
  },
  {
   "cell_type": "code",
   "execution_count": 43,
   "metadata": {
    "collapsed": false
   },
   "outputs": [
    {
     "data": {
      "text/html": [
       "<div>\n",
       "<table border=\"1\" class=\"dataframe\">\n",
       "  <thead>\n",
       "    <tr style=\"text-align: right;\">\n",
       "      <th></th>\n",
       "      <th>UserID</th>\n",
       "      <th>MovieID</th>\n",
       "      <th>Rating</th>\n",
       "      <th>Timestamp</th>\n",
       "    </tr>\n",
       "  </thead>\n",
       "  <tbody>\n",
       "    <tr>\n",
       "      <th>0</th>\n",
       "      <td>1</td>\n",
       "      <td>661</td>\n",
       "      <td>3</td>\n",
       "      <td>978302109</td>\n",
       "    </tr>\n",
       "    <tr>\n",
       "      <th>1</th>\n",
       "      <td>1</td>\n",
       "      <td>914</td>\n",
       "      <td>3</td>\n",
       "      <td>978301968</td>\n",
       "    </tr>\n",
       "    <tr>\n",
       "      <th>2</th>\n",
       "      <td>1</td>\n",
       "      <td>3408</td>\n",
       "      <td>4</td>\n",
       "      <td>978300275</td>\n",
       "    </tr>\n",
       "    <tr>\n",
       "      <th>3</th>\n",
       "      <td>1</td>\n",
       "      <td>1287</td>\n",
       "      <td>5</td>\n",
       "      <td>978302039</td>\n",
       "    </tr>\n",
       "    <tr>\n",
       "      <th>4</th>\n",
       "      <td>1</td>\n",
       "      <td>594</td>\n",
       "      <td>4</td>\n",
       "      <td>978302268</td>\n",
       "    </tr>\n",
       "  </tbody>\n",
       "</table>\n",
       "</div>"
      ],
      "text/plain": [
       "   UserID  MovieID  Rating  Timestamp\n",
       "0       1      661       3  978302109\n",
       "1       1      914       3  978301968\n",
       "2       1     3408       4  978300275\n",
       "3       1     1287       5  978302039\n",
       "4       1      594       4  978302268"
      ]
     },
     "execution_count": 43,
     "metadata": {},
     "output_type": "execute_result"
    }
   ],
   "source": [
    "names = ['UserID', 'MovieID', 'Rating', 'Timestamp']\n",
    "df_entire = pd.read_csv(\"/Users/sushma/Desktop/DM_Git/Recommender_System/newRatings.csv\", names=names, header=0)\n",
    "df_entire.head()"
   ]
  },
  {
   "cell_type": "code",
   "execution_count": 44,
   "metadata": {
    "collapsed": false
   },
   "outputs": [],
   "source": [
    "uniq_userid = df_entire.UserID.unique()\n",
    "sorted_uniq_userid = sorted(uniq_userid)\n",
    "uindex = 0\n",
    "user_index = {}\n",
    "for n in sorted_uniq_userid:\n",
    "    user_index[n] = uindex\n",
    "    uindex += 1\n",
    "    \n",
    "uniq_movieid = df_entire.MovieID.unique()\n",
    "sorted_uniq_movieid = sorted(uniq_movieid)\n",
    "mindex = 0\n",
    "movie_index = {}\n",
    "for n in sorted_uniq_movieid:\n",
    "    movie_index[n] = mindex\n",
    "    mindex += 1"
   ]
  },
  {
   "cell_type": "code",
   "execution_count": 45,
   "metadata": {
    "collapsed": false
   },
   "outputs": [
    {
     "name": "stdout",
     "output_type": "stream",
     "text": [
      "n users: 6040\n",
      "n movies: 1970\n"
     ]
    }
   ],
   "source": [
    "n_users = df_entire.UserID.unique().shape[0]\n",
    "print(\"n users: %s\" % n_users)\n",
    "n_movies = df_entire.MovieID.unique().shape[0]\n",
    "print(\"n movies: %s\" % n_movies)"
   ]
  },
  {
   "cell_type": "code",
   "execution_count": 46,
   "metadata": {
    "collapsed": false
   },
   "outputs": [
    {
     "data": {
      "text/plain": [
       "array([[ 0.,  0.,  0., ...,  0.,  0.,  0.],\n",
       "       [ 0.,  0.,  0., ...,  0.,  0.,  0.],\n",
       "       [ 0.,  0.,  0., ...,  0.,  0.,  0.],\n",
       "       ..., \n",
       "       [ 0.,  0.,  0., ...,  0.,  0.,  0.],\n",
       "       [ 0.,  0.,  0., ...,  0.,  0.,  3.],\n",
       "       [ 0.,  0.,  0., ...,  0.,  0.,  5.]])"
      ]
     },
     "execution_count": 46,
     "metadata": {},
     "output_type": "execute_result"
    }
   ],
   "source": [
    "entire_ratings = np.zeros((n_users,n_movies))\n",
    "for row in df_entire.itertuples():\n",
    "    # row[1] will the user_id; row[2] the \n",
    "    # rating (see also my note below).\n",
    "    # the -1 2s to move to 0 indexing.\n",
    "    entire_ratings[user_index[row[1]]-1, movie_index[row[2]]-1] = row[3]\n",
    "entire_ratings"
   ]
  },
  {
   "cell_type": "code",
   "execution_count": 48,
   "metadata": {
    "collapsed": false
   },
   "outputs": [
    {
     "name": "stdout",
     "output_type": "stream",
     "text": [
      "sparsity: 4.87%\n"
     ]
    }
   ],
   "source": [
    "sparsity = float(len(entire_ratings.nonzero()[0]))\n",
    "sparsity /= (entire_ratings.shape[0] * entire_ratings.shape[1])\n",
    "sparsity *= 100\n",
    "print('sparsity: {:4.2f}%'.format(sparsity))"
   ]
  },
  {
   "cell_type": "code",
   "execution_count": 52,
   "metadata": {
    "collapsed": true
   },
   "outputs": [],
   "source": [
    "train, test = train_test_split(entire_ratings)"
   ]
  },
  {
   "cell_type": "code",
   "execution_count": 53,
   "metadata": {
    "collapsed": false
   },
   "outputs": [
    {
     "name": "stdout",
     "output_type": "stream",
     "text": [
      "[[  1.04500000e+03   1.29000000e+02   3.20000000e+01 ...,   9.20000000e+01\n",
      "    4.17000000e+02   4.90000000e+01]\n",
      " [  1.29000000e+02   3.88000000e+02   5.30000000e+01 ...,   3.20000000e+01\n",
      "    1.41000000e+02   1.50000000e+01]\n",
      " [  3.20000000e+01   5.30000000e+01   7.60000000e+01 ...,   1.00000000e-09\n",
      "    4.10000000e+01   2.00000000e+01]\n",
      " ..., \n",
      " [  9.20000000e+01   3.20000000e+01   1.00000000e-09 ...,   9.83000000e+02\n",
      "    2.51000000e+02   9.30000000e+01]\n",
      " [  4.17000000e+02   1.41000000e+02   4.10000000e+01 ...,   2.51000000e+02\n",
      "    2.57600000e+03   1.24000000e+02]\n",
      " [  4.90000000e+01   1.50000000e+01   2.00000000e+01 ...,   9.30000000e+01\n",
      "    1.24000000e+02   3.94000000e+02]]\n"
     ]
    }
   ],
   "source": [
    "user_similarity = similarity(train, kind='user')\n",
    "item_similarity = similarity(train, kind='item')"
   ]
  },
  {
   "cell_type": "code",
   "execution_count": 54,
   "metadata": {
    "collapsed": false
   },
   "outputs": [
    {
     "data": {
      "text/plain": [
       "array([[ 1045.,   149.,    52., ...,    92.,   417.,    49.],\n",
       "       [  135.,   388.,    53., ...,    40.,   193.,    15.],\n",
       "       [   87.,    61.,    76., ...,    16.,    99.,    61.],\n",
       "       ..., \n",
       "       [  121.,    52.,    15., ...,   983.,   273.,    93.],\n",
       "       [  417.,   141.,    41., ...,   291.,  2576.,   124.],\n",
       "       [   85.,    35.,    20., ...,   109.,   156.,   394.]])"
      ]
     },
     "execution_count": 54,
     "metadata": {},
     "output_type": "execute_result"
    }
   ],
   "source": [
    "sim = entire_ratings.dot(train.T) + 1e-9\n",
    "sim"
   ]
  },
  {
   "cell_type": "code",
   "execution_count": 55,
   "metadata": {
    "collapsed": false
   },
   "outputs": [
    {
     "name": "stdout",
     "output_type": "stream",
     "text": [
      "User-based CF MSE: 9.40545355092\n",
      "Movie-based CF MSE: 12.8494402941\n"
     ]
    }
   ],
   "source": [
    "item_prediction = predict(train, item_similarity, kind='item')\n",
    "user_prediction = predict(train, user_similarity, kind='user')\n",
    "print('User-based CF MSE: ' + str(get_mse(user_prediction, test)))\n",
    "print('Movie-based CF MSE: ' + str(get_mse(item_prediction, test)))"
   ]
  },
  {
   "cell_type": "code",
   "execution_count": 56,
   "metadata": {
    "collapsed": false
   },
   "outputs": [
    {
     "name": "stdout",
     "output_type": "stream",
     "text": [
      "Top-k User-based CF MSE: 7.9143489793\n"
     ]
    }
   ],
   "source": [
    "pred_entire = predict_topk(train, user_similarity, k=40)\n",
    "print('Top-k User-based CF MSE: ' + str(get_mse(pred_entire, test)))"
   ]
  },
  {
   "cell_type": "code",
   "execution_count": null,
   "metadata": {
    "collapsed": true
   },
   "outputs": [],
   "source": []
  }
 ],
 "metadata": {
  "kernelspec": {
   "display_name": "Python 2",
   "language": "python",
   "name": "python2"
  },
  "language_info": {
   "codemirror_mode": {
    "name": "ipython",
    "version": 2
   },
   "file_extension": ".py",
   "mimetype": "text/x-python",
   "name": "python",
   "nbconvert_exporter": "python",
   "pygments_lexer": "ipython2",
   "version": "2.7.10"
  }
 },
 "nbformat": 4,
 "nbformat_minor": 0
}
