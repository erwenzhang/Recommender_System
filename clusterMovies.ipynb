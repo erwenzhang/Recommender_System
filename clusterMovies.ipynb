{
 "cells": [
  {
   "cell_type": "code",
   "execution_count": 1,
   "metadata": {
    "collapsed": true
   },
   "outputs": [],
   "source": [
    "import warnings\n",
    "warnings.filterwarnings('ignore')\n",
    "\n",
    "import sklearn\n",
    "import pandas as pd\n",
    "\n",
    "import matplotlib\n",
    "import matplotlib.pyplot as plt\n",
    "%matplotlib inline  "
   ]
  },
  {
   "cell_type": "code",
   "execution_count": 2,
   "metadata": {
    "collapsed": false
   },
   "outputs": [],
   "source": [
    "movie_data = pd.read_csv(\"mergedMovies\")"
   ]
  },
  {
   "cell_type": "code",
   "execution_count": 3,
   "metadata": {
    "collapsed": false
   },
   "outputs": [
    {
     "data": {
      "text/html": [
       "<div>\n",
       "<table border=\"1\" class=\"dataframe\">\n",
       "  <thead>\n",
       "    <tr style=\"text-align: right;\">\n",
       "      <th></th>\n",
       "      <th>Movie ID</th>\n",
       "      <th>Genre</th>\n",
       "      <th>Name</th>\n",
       "      <th>Year</th>\n",
       "      <th>Director</th>\n",
       "      <th>Cast</th>\n",
       "      <th>imDB rating</th>\n",
       "    </tr>\n",
       "  </thead>\n",
       "  <tbody>\n",
       "    <tr>\n",
       "      <th>0</th>\n",
       "      <td>2</td>\n",
       "      <td>Adventure|Children's|Fantasy</td>\n",
       "      <td>Jumanji</td>\n",
       "      <td>1995</td>\n",
       "      <td>Joe Johnston</td>\n",
       "      <td>Robin Williams, Jonathan Hyde</td>\n",
       "      <td>6.9</td>\n",
       "    </tr>\n",
       "    <tr>\n",
       "      <th>1</th>\n",
       "      <td>1</td>\n",
       "      <td>Animation|Children's|Comedy</td>\n",
       "      <td>Toy Story</td>\n",
       "      <td>1995</td>\n",
       "      <td>John Lasseter</td>\n",
       "      <td>Tom Hanks, Tim Allen</td>\n",
       "      <td>8.3</td>\n",
       "    </tr>\n",
       "    <tr>\n",
       "      <th>2</th>\n",
       "      <td>8</td>\n",
       "      <td>Adventure|Children's</td>\n",
       "      <td>Tom and Huck</td>\n",
       "      <td>1995</td>\n",
       "      <td>Peter Hewitt</td>\n",
       "      <td>Jonathan Taylor Thomas, Brad Renfro</td>\n",
       "      <td>5.6</td>\n",
       "    </tr>\n",
       "    <tr>\n",
       "      <th>3</th>\n",
       "      <td>5</td>\n",
       "      <td>Comedy</td>\n",
       "      <td>Father of the Bride Part II</td>\n",
       "      <td>1995</td>\n",
       "      <td>Charles Shyer</td>\n",
       "      <td>Steve Martin, Diane Keaton</td>\n",
       "      <td>5.9</td>\n",
       "    </tr>\n",
       "    <tr>\n",
       "      <th>4</th>\n",
       "      <td>7</td>\n",
       "      <td>Comedy|Romance</td>\n",
       "      <td>Sabrina</td>\n",
       "      <td>1995</td>\n",
       "      <td>Sydney Pollack</td>\n",
       "      <td>Harrison Ford, Julia Ormond</td>\n",
       "      <td>6.2</td>\n",
       "    </tr>\n",
       "  </tbody>\n",
       "</table>\n",
       "</div>"
      ],
      "text/plain": [
       "   Movie ID                         Genre                         Name  Year  \\\n",
       "0         2  Adventure|Children's|Fantasy                      Jumanji  1995   \n",
       "1         1   Animation|Children's|Comedy                    Toy Story  1995   \n",
       "2         8          Adventure|Children's                 Tom and Huck  1995   \n",
       "3         5                        Comedy  Father of the Bride Part II  1995   \n",
       "4         7                Comedy|Romance                      Sabrina  1995   \n",
       "\n",
       "         Director                                 Cast  imDB rating  \n",
       "0    Joe Johnston        Robin Williams, Jonathan Hyde          6.9  \n",
       "1   John Lasseter                 Tom Hanks, Tim Allen          8.3  \n",
       "2    Peter Hewitt  Jonathan Taylor Thomas, Brad Renfro          5.6  \n",
       "3   Charles Shyer           Steve Martin, Diane Keaton          5.9  \n",
       "4  Sydney Pollack          Harrison Ford, Julia Ormond          6.2  "
      ]
     },
     "execution_count": 3,
     "metadata": {},
     "output_type": "execute_result"
    }
   ],
   "source": [
    "movie_data.head()"
   ]
  },
  {
   "cell_type": "code",
   "execution_count": 4,
   "metadata": {
    "collapsed": false
   },
   "outputs": [],
   "source": [
    "#genres = {\"Action\":0,\"Adventure\":0,\"Animation\":0,\"Children's\":0,}\n",
    "genres={}\n",
    "num = {}\n",
    "cast=[]\n",
    "director = []\n",
    "for index,it in movie_data.iterrows():\n",
    "    genre= it[\"Genre\"]\n",
    "    genre = genre.split(\"|\")\n",
    "    s = str(it[\"Cast\"])\n",
    "    s1 = str(it[\"Director\"])\n",
    "    cast.append(unicode(s, \"utf-8\"))\n",
    "    director.append(unicode(s1, \"utf-8\"))\n",
    "    for g in genre:\n",
    "        genres[g] = 0;"
   ]
  },
  {
   "cell_type": "code",
   "execution_count": 5,
   "metadata": {
    "collapsed": true
   },
   "outputs": [],
   "source": [
    "from sklearn.feature_extraction import DictVectorizer\n",
    "from sklearn.feature_extraction.text import CountVectorizer\n",
    "vectorizer = CountVectorizer(min_df=1)\n",
    "vectorizer1 = CountVectorizer(min_df=1)\n",
    "X_cast = vectorizer.fit_transform(cast)\n",
    "cast = X_cast.toarray()\n",
    "X_director = vectorizer1.fit_transform(director)\n",
    "director = X_director.toarray()"
   ]
  },
  {
   "cell_type": "code",
   "execution_count": 6,
   "metadata": {
    "collapsed": false
   },
   "outputs": [],
   "source": [
    "feature = {}\n",
    "features = []\n",
    "for key in genres.keys():\n",
    "    feature[key] = 0\n",
    "for index,it in movie_data.iterrows():\n",
    "    tmp_feature = feature.copy()\n",
    "    genre= it[\"Genre\"]\n",
    "    genre = genre.split(\"|\")\n",
    "    for g in genre:\n",
    "        tmp_feature[g] = 1\n",
    "    features.append(tmp_feature)"
   ]
  },
  {
   "cell_type": "code",
   "execution_count": 7,
   "metadata": {
    "collapsed": true
   },
   "outputs": [],
   "source": [
    "measurements = []\n",
    "for i in range(len(features)):\n",
    "    fea = list(features[i].values())\n",
    "    measurements.append(fea+list(director[i])+list(cast[i]))"
   ]
  },
  {
   "cell_type": "code",
   "execution_count": 8,
   "metadata": {
    "collapsed": false
   },
   "outputs": [
    {
     "data": {
      "text/plain": [
       "2033"
      ]
     },
     "execution_count": 8,
     "metadata": {},
     "output_type": "execute_result"
    }
   ],
   "source": [
    "len(measurements)"
   ]
  },
  {
   "cell_type": "code",
   "execution_count": 9,
   "metadata": {
    "collapsed": false
   },
   "outputs": [
    {
     "data": {
      "text/plain": [
       "<matplotlib.collections.PathCollection at 0x1415d1190>"
      ]
     },
     "execution_count": 9,
     "metadata": {},
     "output_type": "execute_result"
    },
    {
     "data": {
      "image/png": "[encoded data removed]",
      "text/plain": [
       "<matplotlib.figure.Figure at 0x10c839d10>"
      ]
     },
     "metadata": {},
     "output_type": "display_data"
    }
   ],
   "source": [
    "from sklearn.decomposition import PCA\n",
    "pca = PCA(n_components=2)\n",
    "pca.fit(measurements)\n",
    "measure_reduced = pca.transform(measurements)\n",
    "import pylab as pl\n",
    "pl.scatter(measure_reduced[:, 0], measure_reduced[:, 1])"
   ]
  },
  {
   "cell_type": "code",
   "execution_count": 10,
   "metadata": {
    "collapsed": false
   },
   "outputs": [
    {
     "data": {
      "image/png": "[encoded data removed]",
      "text/plain": [
       "<matplotlib.figure.Figure at 0x14161d750>"
      ]
     },
     "metadata": {},
     "output_type": "display_data"
    }
   ],
   "source": [
    "from sklearn.cluster import KMeans\n",
    "k_means = KMeans(n_clusters=3, random_state=0) # Fixing the RNG in kmeans\n",
    "k_means.fit(measure_reduced)\n",
    "\n",
    "\n",
    "pl.scatter(measure_reduced[:, 0], measure_reduced[:, 1], c=k_means.labels_,\n",
    "           cmap='rainbow');"
   ]
  },
  {
   "cell_type": "code",
   "execution_count": 15,
   "metadata": {
    "collapsed": false
   },
   "outputs": [
    {
     "name": "stdout",
     "output_type": "stream",
     "text": [
      "3\n"
     ]
    },
    {
     "data": {
      "image/png": "[encoded data removed]",
      "text/plain": [
       "<matplotlib.figure.Figure at 0x14457b210>"
      ]
     },
     "metadata": {},
     "output_type": "display_data"
    }
   ],
   "source": [
    "from sklearn.cluster import DBSCAN \n",
    "db_scan = DBSCAN(eps=0.5, min_samples=70)\n",
    "db_scan.fit(measure_reduced)\n",
    "\n",
    "print(len(set(db_scan.labels_)))\n",
    "pl.scatter(measure_reduced[:, 0], measure_reduced[:, 1], c=db_scan.labels_,\n",
    "           cmap='rainbow');\n"
   ]
  },
  {
   "cell_type": "markdown",
   "metadata": {},
   "source": [
    "Obtain three clusters dataframe and write these into csv files."
   ]
  },
  {
   "cell_type": "code",
   "execution_count": 16,
   "metadata": {
    "collapsed": true
   },
   "outputs": [],
   "source": [
    "movie_data[\"label\"] = db_scan.labels_"
   ]
  },
  {
   "cell_type": "code",
   "execution_count": 17,
   "metadata": {
    "collapsed": true
   },
   "outputs": [],
   "source": [
    "movie_data_0 = movie_data[movie_data.label==0]\n",
    "movie_data_1 = movie_data[movie_data.label==1]\n",
    "movie_data_2 = movie_data[movie_data.label==2]\n",
    "movie_data_0.head()\n",
    "movie_data_0.to_csv(\"movie_set_0.csv\")\n",
    "movie_data_1.to_csv(\"movie_set_1.csv\")\n",
    "movie_data_2.to_csv(\"movie_set_2.csv\")"
   ]
  },
  {
   "cell_type": "code",
   "execution_count": 18,
   "metadata": {
    "collapsed": false
   },
   "outputs": [
    {
     "data": {
      "text/plain": [
       "2033"
      ]
     },
     "execution_count": 18,
     "metadata": {},
     "output_type": "execute_result"
    }
   ],
   "source": [
    "len(movie_data_0)+len(movie_data_1)+len(movie_data_2)"
   ]
  },
  {
   "cell_type": "markdown",
   "metadata": {},
   "source": [
    "Separate ratings into three files based on movies clusters"
   ]
  },
  {
   "cell_type": "code",
   "execution_count": 19,
   "metadata": {
    "collapsed": false
   },
   "outputs": [
    {
     "data": {
      "text/html": [
       "<div>\n",
       "<table border=\"1\" class=\"dataframe\">\n",
       "  <thead>\n",
       "    <tr style=\"text-align: right;\">\n",
       "      <th></th>\n",
       "      <th>UserID</th>\n",
       "      <th>MovieID</th>\n",
       "      <th>Rating</th>\n",
       "      <th>Timestamp</th>\n",
       "    </tr>\n",
       "  </thead>\n",
       "  <tbody>\n",
       "    <tr>\n",
       "      <th>0</th>\n",
       "      <td>1</td>\n",
       "      <td>661</td>\n",
       "      <td>3</td>\n",
       "      <td>978302109</td>\n",
       "    </tr>\n",
       "    <tr>\n",
       "      <th>1</th>\n",
       "      <td>1</td>\n",
       "      <td>914</td>\n",
       "      <td>3</td>\n",
       "      <td>978301968</td>\n",
       "    </tr>\n",
       "    <tr>\n",
       "      <th>2</th>\n",
       "      <td>1</td>\n",
       "      <td>3408</td>\n",
       "      <td>4</td>\n",
       "      <td>978300275</td>\n",
       "    </tr>\n",
       "    <tr>\n",
       "      <th>3</th>\n",
       "      <td>1</td>\n",
       "      <td>1287</td>\n",
       "      <td>5</td>\n",
       "      <td>978302039</td>\n",
       "    </tr>\n",
       "    <tr>\n",
       "      <th>4</th>\n",
       "      <td>1</td>\n",
       "      <td>594</td>\n",
       "      <td>4</td>\n",
       "      <td>978302268</td>\n",
       "    </tr>\n",
       "  </tbody>\n",
       "</table>\n",
       "</div>"
      ],
      "text/plain": [
       "   UserID  MovieID  Rating  Timestamp\n",
       "0       1      661       3  978302109\n",
       "1       1      914       3  978301968\n",
       "2       1     3408       4  978300275\n",
       "3       1     1287       5  978302039\n",
       "4       1      594       4  978302268"
      ]
     },
     "execution_count": 19,
     "metadata": {},
     "output_type": "execute_result"
    }
   ],
   "source": [
    "names = ['UserID', 'MovieID', 'Rating', 'Timestamp']\n",
    "df = pd.read_csv(\"newRatings.csv\", names=names, header=0)\n",
    "df.head()"
   ]
  },
  {
   "cell_type": "code",
   "execution_count": 20,
   "metadata": {
    "collapsed": true
   },
   "outputs": [],
   "source": [
    "movie_df_0 = pd.read_csv(\"movie_set_0.csv\")\n",
    "movie_df_0 = movie_df_0.drop(movie_df_0.columns[0],axis=1)\n",
    "\n",
    "movie_df_1 = pd.read_csv(\"movie_set_1.csv\")\n",
    "movie_df_1 = movie_df_1.drop(movie_df_1.columns[0],axis=1)\n",
    "\n",
    "movie_df_2 = pd.read_csv(\"movie_set_2.csv\")\n",
    "movie_df_2 = movie_df_2.drop(movie_df_2.columns[0],axis=1)\n"
   ]
  },
  {
   "cell_type": "code",
   "execution_count": 21,
   "metadata": {
    "collapsed": true
   },
   "outputs": [],
   "source": [
    "first_cluster = movie_df_0[\"Movie ID\"].tolist()\n",
    "second_cluster = movie_df_1[\"Movie ID\"].tolist()\n",
    "third_cluster = movie_df_2[\"Movie ID\"].tolist()"
   ]
  },
  {
   "cell_type": "code",
   "execution_count": 22,
   "metadata": {
    "collapsed": true
   },
   "outputs": [],
   "source": [
    "first_ratings_matrix = []\n",
    "second_ratings_matrix = []\n",
    "third_ratings_matrix = []\n",
    "for row in df.itertuples():\n",
    "    if row[2] in first_cluster:\n",
    "        first_ratings_matrix.append([row[1],row[2],row[3],0])\n",
    "    elif row[2] in second_cluster:\n",
    "        second_ratings_matrix.append([row[1],row[2],row[3],1])  \n",
    "    else:\n",
    "        third_ratings_matrix.append([row[1],row[2],row[3],2]) "
   ]
  },
  {
   "cell_type": "markdown",
   "metadata": {},
   "source": [
    "Write ratings clusters into csv files."
   ]
  },
  {
   "cell_type": "code",
   "execution_count": 25,
   "metadata": {
    "collapsed": false
   },
   "outputs": [],
   "source": [
    "import csv\n",
    "with open('FirstRatingsMatrix.csv', 'a') as outcsv:   \n",
    "    writer = csv.writer(outcsv, delimiter=',', quoting=csv.QUOTE_MINIMAL, lineterminator='\\n')\n",
    "    writer.writerow(['UserID','MovieID','Rating','label'])\n",
    "    for item in first_ratings_matrix:\n",
    "        writer.writerow([item[0], item[1], item[2], item[3]])  "
   ]
  },
  {
   "cell_type": "code",
   "execution_count": 26,
   "metadata": {
    "collapsed": true
   },
   "outputs": [],
   "source": [
    "with open('SecondRatingsMatrix.csv', 'a') as outcsv:   \n",
    "    writer = csv.writer(outcsv, delimiter=',', quoting=csv.QUOTE_MINIMAL, lineterminator='\\n')\n",
    "    writer.writerow(['UserID','MovieID','Rating','label'])\n",
    "    for item in second_ratings_matrix:\n",
    "        writer.writerow([item[0], item[1], item[2], item[3]])"
   ]
  },
  {
   "cell_type": "code",
   "execution_count": 27,
   "metadata": {
    "collapsed": true
   },
   "outputs": [],
   "source": [
    "with open('ThirdRatingsMatrix.csv', 'a') as outcsv:   \n",
    "    writer = csv.writer(outcsv, delimiter=',', quoting=csv.QUOTE_MINIMAL, lineterminator='\\n')\n",
    "    writer.writerow(['UserID','MovieID','Rating','label'])\n",
    "    for item in third_ratings_matrix:\n",
    "        writer.writerow([item[0], item[1], item[2], item[3]])"
   ]
  },
  {
   "cell_type": "code",
   "execution_count": null,
   "metadata": {
    "collapsed": true
   },
   "outputs": [],
   "source": []
  }
 ],
 "metadata": {
  "kernelspec": {
   "display_name": "Python 2",
   "language": "python",
   "name": "python2"
  },
  "language_info": {
   "codemirror_mode": {
    "name": "ipython",
    "version": 2
   },
   "file_extension": ".py",
   "mimetype": "text/x-python",
   "name": "python",
   "nbconvert_exporter": "python",
   "pygments_lexer": "ipython2",
   "version": "2.7.11"
  }
 },
 "nbformat": 4,
 "nbformat_minor": 0
}
