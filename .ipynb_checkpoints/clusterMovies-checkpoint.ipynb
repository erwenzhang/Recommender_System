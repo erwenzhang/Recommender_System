{
 "cells": [
  {
   "cell_type": "code",
   "execution_count": 1,
   "metadata": {
    "collapsed": true
   },
   "outputs": [],
   "source": [
    "import warnings\n",
    "warnings.filterwarnings('ignore')\n",
    "\n",
    "import sklearn\n",
    "import pandas as pd\n",
    "\n",
    "import matplotlib\n",
    "import matplotlib.pyplot as plt\n",
    "%matplotlib inline  "
   ]
  },
  {
   "cell_type": "code",
   "execution_count": 2,
   "metadata": {
    "collapsed": false
   },
   "outputs": [],
   "source": [
    "movie_data = pd.read_csv(\"mergedMovies\")"
   ]
  },
  {
   "cell_type": "code",
   "execution_count": 3,
   "metadata": {
    "collapsed": false
   },
   "outputs": [
    {
     "data": {
      "text/html": [
       "<div>\n",
       "<table border=\"1\" class=\"dataframe\">\n",
       "  <thead>\n",
       "    <tr style=\"text-align: right;\">\n",
       "      <th></th>\n",
       "      <th>Movie ID</th>\n",
       "      <th>Genre</th>\n",
       "      <th>Name</th>\n",
       "      <th>Year</th>\n",
       "      <th>Director</th>\n",
       "      <th>Cast</th>\n",
       "      <th>imDB rating</th>\n",
       "    </tr>\n",
       "  </thead>\n",
       "  <tbody>\n",
       "    <tr>\n",
       "      <th>0</th>\n",
       "      <td>2</td>\n",
       "      <td>Adventure|Children's|Fantasy</td>\n",
       "      <td>Jumanji</td>\n",
       "      <td>1995</td>\n",
       "      <td>Joe Johnston</td>\n",
       "      <td>Robin Williams, Jonathan Hyde</td>\n",
       "      <td>6.9</td>\n",
       "    </tr>\n",
       "    <tr>\n",
       "      <th>1</th>\n",
       "      <td>1</td>\n",
       "      <td>Animation|Children's|Comedy</td>\n",
       "      <td>Toy Story</td>\n",
       "      <td>1995</td>\n",
       "      <td>John Lasseter</td>\n",
       "      <td>Tom Hanks, Tim Allen</td>\n",
       "      <td>8.3</td>\n",
       "    </tr>\n",
       "    <tr>\n",
       "      <th>2</th>\n",
       "      <td>8</td>\n",
       "      <td>Adventure|Children's</td>\n",
       "      <td>Tom and Huck</td>\n",
       "      <td>1995</td>\n",
       "      <td>Peter Hewitt</td>\n",
       "      <td>Jonathan Taylor Thomas, Brad Renfro</td>\n",
       "      <td>5.6</td>\n",
       "    </tr>\n",
       "    <tr>\n",
       "      <th>3</th>\n",
       "      <td>5</td>\n",
       "      <td>Comedy</td>\n",
       "      <td>Father of the Bride Part II</td>\n",
       "      <td>1995</td>\n",
       "      <td>Charles Shyer</td>\n",
       "      <td>Steve Martin, Diane Keaton</td>\n",
       "      <td>5.9</td>\n",
       "    </tr>\n",
       "    <tr>\n",
       "      <th>4</th>\n",
       "      <td>7</td>\n",
       "      <td>Comedy|Romance</td>\n",
       "      <td>Sabrina</td>\n",
       "      <td>1995</td>\n",
       "      <td>Sydney Pollack</td>\n",
       "      <td>Harrison Ford, Julia Ormond</td>\n",
       "      <td>6.2</td>\n",
       "    </tr>\n",
       "  </tbody>\n",
       "</table>\n",
       "</div>"
      ],
      "text/plain": [
       "   Movie ID                         Genre                         Name  Year  \\\n",
       "0         2  Adventure|Children's|Fantasy                      Jumanji  1995   \n",
       "1         1   Animation|Children's|Comedy                    Toy Story  1995   \n",
       "2         8          Adventure|Children's                 Tom and Huck  1995   \n",
       "3         5                        Comedy  Father of the Bride Part II  1995   \n",
       "4         7                Comedy|Romance                      Sabrina  1995   \n",
       "\n",
       "         Director                                 Cast  imDB rating  \n",
       "0    Joe Johnston        Robin Williams, Jonathan Hyde          6.9  \n",
       "1   John Lasseter                 Tom Hanks, Tim Allen          8.3  \n",
       "2    Peter Hewitt  Jonathan Taylor Thomas, Brad Renfro          5.6  \n",
       "3   Charles Shyer           Steve Martin, Diane Keaton          5.9  \n",
       "4  Sydney Pollack          Harrison Ford, Julia Ormond          6.2  "
      ]
     },
     "execution_count": 3,
     "metadata": {},
     "output_type": "execute_result"
    }
   ],
   "source": [
    "movie_data.head()"
   ]
  },
  {
   "cell_type": "code",
   "execution_count": 19,
   "metadata": {
    "collapsed": false
   },
   "outputs": [],
   "source": [
    "#genres = {\"Action\":0,\"Adventure\":0,\"Animation\":0,\"Children's\":0,}\n",
    "genres={}\n",
    "num = {}\n",
    "cast=[]\n",
    "director = []\n",
    "for index,it in movie_data.iterrows():\n",
    "    genre= it[\"Genre\"]\n",
    "    genre = genre.split(\"|\")\n",
    "    s = str(it[\"Cast\"])\n",
    "    s1 = str(it[\"Director\"])\n",
    "    cast.append(unicode(s, \"utf-8\"))\n",
    "    director.append(unicode(s1, \"utf-8\"))\n",
    "    for g in genre:\n",
    "        genres[g] = 0;"
   ]
  },
  {
   "cell_type": "code",
   "execution_count": 20,
   "metadata": {
    "collapsed": true
   },
   "outputs": [],
   "source": [
    "from sklearn.feature_extraction import DictVectorizer\n",
    "from sklearn.feature_extraction.text import CountVectorizer\n",
    "vectorizer = CountVectorizer(min_df=1)\n",
    "vectorizer1 = CountVectorizer(min_df=1)\n",
    "X_cast = vectorizer.fit_transform(cast)\n",
    "cast = X_cast.toarray()\n",
    "X_director = vectorizer1.fit_transform(director)\n",
    "director = X_director.toarray()"
   ]
  },
  {
   "cell_type": "code",
   "execution_count": 21,
   "metadata": {
    "collapsed": false
   },
   "outputs": [],
   "source": [
    "feature = {}\n",
    "features = []\n",
    "for key in genres.keys():\n",
    "    feature[key] = 0\n",
    "for index,it in movie_data.iterrows():\n",
    "    tmp_feature = feature.copy()\n",
    "    genre= it[\"Genre\"]\n",
    "    genre = genre.split(\"|\")\n",
    "    for g in genre:\n",
    "        tmp_feature[g] = 1\n",
    "    features.append(tmp_feature)"
   ]
  },
  {
   "cell_type": "code",
   "execution_count": 22,
   "metadata": {
    "collapsed": true
   },
   "outputs": [],
   "source": [
    "measurements = []\n",
    "for i in range(len(features)):\n",
    "    fea = list(features[i].values())\n",
    "    measurements.append(fea+list(director[i])+list(cast[i]))"
   ]
  },
  {
   "cell_type": "code",
   "execution_count": 23,
   "metadata": {
    "collapsed": false
   },
   "outputs": [
    {
     "data": {
      "text/plain": [
       "2033"
      ]
     },
     "execution_count": 23,
     "metadata": {},
     "output_type": "execute_result"
    }
   ],
   "source": [
    "len(measurements)"
   ]
  },
  {
   "cell_type": "code",
   "execution_count": 24,
   "metadata": {
    "collapsed": false
   },
   "outputs": [
    {
     "data": {
      "text/plain": [
       "<matplotlib.collections.PathCollection at 0x137e5bfd0>"
      ]
     },
     "execution_count": 24,
     "metadata": {},
     "output_type": "execute_result"
    },
    {
     "data": {
      "image/png": "[encoded data removed]",
      "text/plain": [
       "<matplotlib.figure.Figure at 0x1546c9b10>"
      ]
     },
     "metadata": {},
     "output_type": "display_data"
    }
   ],
   "source": [
    "from sklearn.decomposition import PCA\n",
    "pca = PCA(n_components=2)\n",
    "pca.fit(measurements)\n",
    "measure_reduced = pca.transform(measurements)\n",
    "import pylab as pl\n",
    "pl.scatter(measure_reduced[:, 0], measure_reduced[:, 1])"
   ]
  }
 ],
 "metadata": {
  "kernelspec": {
   "display_name": "Python 2",
   "language": "python",
   "name": "python2"
  },
  "language_info": {
   "codemirror_mode": {
    "name": "ipython",
    "version": 2
   },
   "file_extension": ".py",
   "mimetype": "text/x-python",
   "name": "python",
   "nbconvert_exporter": "python",
   "pygments_lexer": "ipython2",
   "version": "2.7.11"
  }
 },
 "nbformat": 4,
 "nbformat_minor": 0
}
